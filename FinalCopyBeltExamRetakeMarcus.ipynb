{
  "nbformat": 4,
  "nbformat_minor": 0,
  "metadata": {
    "colab": {
      "name": "FinalCopyBeltExamRetakeMarcus.ipynb",
      "provenance": [],
      "collapsed_sections": [],
      "include_colab_link": true
    },
    "kernelspec": {
      "name": "python3",
      "display_name": "Python 3"
    },
    "language_info": {
      "name": "python"
    }
  },
  "cells": [
    {
      "cell_type": "markdown",
      "metadata": {
        "id": "view-in-github",
        "colab_type": "text"
      },
      "source": [
        "<a href=\"https://colab.research.google.com/github/mpartain1/sales-predictions/blob/main/FinalCopyBeltExamRetakeMarcus.ipynb\" target=\"_parent\"><img src=\"https://colab.research.google.com/assets/colab-badge.svg\" alt=\"Open In Colab\"/></a>"
      ]
    },
    {
      "cell_type": "code",
      "execution_count": null,
      "metadata": {
        "id": "x6rfhZwXmMY7"
      },
      "outputs": [],
      "source": [
        "import pandas as pd\n",
        "import matplotlib.pyplot as plt\n",
        "import seaborn as sns\n",
        "import numpy as np\n",
        "from sklearn.model_selection import train_test_split\n",
        "from sklearn.compose import make_column_selector\n",
        "from sklearn.preprocessing import OrdinalEncoder\n",
        "from sklearn.compose import make_column_transformer\n",
        "from sklearn.impute import SimpleImputer\n",
        "from sklearn.pipeline import make_pipeline\n",
        "from sklearn import set_config\n",
        "from sklearn.linear_model import LogisticRegression\n",
        "from sklearn.neighbors import KNeighborsClassifier\n",
        "from sklearn.preprocessing import StandardScaler\n",
        "from sklearn.metrics import accuracy_score, precision_score, recall_score, classification_report, ConfusionMatrixDisplay\n",
        "from sklearn.compose import ColumnTransformer\n",
        "from sklearn.pipeline import Pipeline\n",
        "from sklearn.model_selection import cross_val_score\n",
        "set_config(display='diagram')"
      ]
    },
    {
      "cell_type": "code",
      "source": [
        "from google.colab import drive\n",
        "drive.mount('/content/drive')"
      ],
      "metadata": {
        "id": "oMyP0Z-H_Smc",
        "outputId": "6a1b5599-4b83-4d8d-9c1d-8eab1d9c410b",
        "colab": {
          "base_uri": "https://localhost:8080/"
        }
      },
      "execution_count": null,
      "outputs": [
        {
          "output_type": "stream",
          "name": "stdout",
          "text": [
            "Drive already mounted at /content/drive; to attempt to forcibly remount, call drive.mount(\"/content/drive\", force_remount=True).\n"
          ]
        }
      ]
    },
    {
      "cell_type": "code",
      "source": [
        "df = pd.read_csv('/content/Belt2_B_diabetes_v2_final.csv')\n",
        "print(df.head())\n",
        "print(df.info())"
      ],
      "metadata": {
        "colab": {
          "base_uri": "https://localhost:8080/"
        },
        "id": "ou2g6kBOmfgd",
        "outputId": "39f6c997-4a2a-4e54-a851-f4a15d2ba810"
      },
      "execution_count": null,
      "outputs": [
        {
          "output_type": "stream",
          "name": "stdout",
          "text": [
            "   Pregnancies  Glucose  BloodPressure  SkinThickness  Insulin  \\\n",
            "0            4    189.0          110.0           31.0      NaN   \n",
            "1            2    157.0           74.0           35.0    440.0   \n",
            "2            6     98.0           58.0           33.0    190.0   \n",
            "3            6    111.0           64.0           39.0      NaN   \n",
            "4            3    106.0           72.0            NaN      NaN   \n",
            "\n",
            "  DiabetesPedigreeFunction WeightGroup AgeGroup Gender  Outcome  \n",
            "0                     0_68  overweight  18 - 44      F        0  \n",
            "1                    0.134     obese_2  18 - 44      F        0  \n",
            "2                     0.43     obese_1  18 - 44      F        0  \n",
            "3                     0.26     obese_1  18 - 44      F        0  \n",
            "4                    0_207  overweight  18 - 44      F        0  \n",
            "<class 'pandas.core.frame.DataFrame'>\n",
            "RangeIndex: 642 entries, 0 to 641\n",
            "Data columns (total 10 columns):\n",
            " #   Column                    Non-Null Count  Dtype  \n",
            "---  ------                    --------------  -----  \n",
            " 0   Pregnancies               642 non-null    int64  \n",
            " 1   Glucose                   638 non-null    float64\n",
            " 2   BloodPressure             616 non-null    float64\n",
            " 3   SkinThickness             455 non-null    float64\n",
            " 4   Insulin                   331 non-null    float64\n",
            " 5   DiabetesPedigreeFunction  642 non-null    object \n",
            " 6   WeightGroup               642 non-null    object \n",
            " 7   AgeGroup                  642 non-null    object \n",
            " 8   Gender                    642 non-null    object \n",
            " 9   Outcome                   642 non-null    int64  \n",
            "dtypes: float64(4), int64(2), object(4)\n",
            "memory usage: 50.3+ KB\n",
            "None\n"
          ]
        }
      ]
    },
    {
      "cell_type": "markdown",
      "source": [
        "Next, I attempt to change the data types according to the given data dictionary:"
      ],
      "metadata": {
        "id": "dfZB83TyWQ5S"
      }
    },
    {
      "cell_type": "code",
      "source": [
        "df['WeightGroup'] = df['WeightGroup'].astype('string')\n",
        "df['AgeGroup'] = df['AgeGroup'].astype('string')\n",
        "df['Gender'] = df['Gender'].astype('string')\n",
        "df['Glucose'] = df['Glucose'].astype('int64', errors = 'ignore')\n",
        "df['BloodPressure'] = df['BloodPressure'].astype('int64', errors = 'ignore')\n",
        "df['SkinThickness'] = df['SkinThickness'].astype('int64', errors = 'ignore')\n",
        "df['Insulin'] = df['Insulin'].astype('int64', errors = 'ignore')\n",
        "df['DiabetesPedigreeFunction'] = df['DiabetesPedigreeFunction'].astype('float', errors = 'ignore')"
      ],
      "metadata": {
        "id": "XvTTjzhUuuHJ"
      },
      "execution_count": null,
      "outputs": []
    },
    {
      "cell_type": "code",
      "source": [
        "print(df.duplicated().sum())\n",
        "print(df.drop_duplicates(keep = False, inplace = True))\n",
        "print(df.duplicated().sum())\n"
      ],
      "metadata": {
        "colab": {
          "base_uri": "https://localhost:8080/"
        },
        "id": "wA3wlsF0hbAi",
        "outputId": "b23df02b-1ec9-4b37-c341-9c60d1835f5b"
      },
      "execution_count": null,
      "outputs": [
        {
          "output_type": "stream",
          "name": "stdout",
          "text": [
            "3\n",
            "None\n",
            "0\n"
          ]
        }
      ]
    },
    {
      "cell_type": "code",
      "source": [
        "print(df['Pregnancies'].value_counts())\n",
        "df.drop(df.index[(df.Pregnancies > 15)], inplace = True)\n",
        "print(df['Pregnancies'].value_counts())\n",
        "#removes the 1000 impossible pregnancy value"
      ],
      "metadata": {
        "colab": {
          "base_uri": "https://localhost:8080/"
        },
        "id": "A9ypZ3bBmvwI",
        "outputId": "7d8f0dd5-d887-480e-e893-e9960977dac6"
      },
      "execution_count": null,
      "outputs": [
        {
          "output_type": "stream",
          "name": "stdout",
          "text": [
            "1       107\n",
            "0        93\n",
            "2        87\n",
            "3        60\n",
            "4        55\n",
            "5        44\n",
            "6        41\n",
            "7        41\n",
            "8        31\n",
            "9        25\n",
            "10       21\n",
            "11       10\n",
            "13        9\n",
            "12        8\n",
            "14        2\n",
            "1000      1\n",
            "15        1\n",
            "Name: Pregnancies, dtype: int64\n",
            "1     107\n",
            "0      93\n",
            "2      87\n",
            "3      60\n",
            "4      55\n",
            "5      44\n",
            "6      41\n",
            "7      41\n",
            "8      31\n",
            "9      25\n",
            "10     21\n",
            "11     10\n",
            "13      9\n",
            "12      8\n",
            "14      2\n",
            "15      1\n",
            "Name: Pregnancies, dtype: int64\n"
          ]
        }
      ]
    },
    {
      "cell_type": "code",
      "source": [
        "print(df['Glucose'].value_counts())\n",
        "plt.style.use('ggplot')\n",
        "df['Glucose'].hist()\n",
        "#We use this histogram to see if there are any extreme/unrealistic values, which there are not."
      ],
      "metadata": {
        "colab": {
          "base_uri": "https://localhost:8080/",
          "height": 491
        },
        "id": "1mTZsgmHoGjo",
        "outputId": "574d7579-fadc-47bb-e98f-74cf62c8c5ea"
      },
      "execution_count": null,
      "outputs": [
        {
          "output_type": "stream",
          "name": "stdout",
          "text": [
            "99.0     15\n",
            "129.0    13\n",
            "125.0    13\n",
            "106.0    12\n",
            "112.0    11\n",
            "         ..\n",
            "56.0      1\n",
            "74.0      1\n",
            "76.0      1\n",
            "77.0      1\n",
            "186.0     1\n",
            "Name: Glucose, Length: 131, dtype: int64\n"
          ]
        },
        {
          "output_type": "execute_result",
          "data": {
            "text/plain": [
              "<matplotlib.axes._subplots.AxesSubplot at 0x7f7c347ec8d0>"
            ]
          },
          "metadata": {},
          "execution_count": 158
        },
        {
          "output_type": "display_data",
          "data": {
            "text/plain": [
              "<Figure size 432x288 with 1 Axes>"
            ],
            "image/png": "[encoded data removed]"
          },
          "metadata": {}
        }
      ]
    },
    {
      "cell_type": "code",
      "source": [
        "print(df['BloodPressure'].value_counts())\n",
        "plt.style.use('ggplot')\n",
        "df['BloodPressure'].hist()\n",
        "#We use this histogram to see if there are any extreme/unrealistic values, which there are not."
      ],
      "metadata": {
        "colab": {
          "base_uri": "https://localhost:8080/",
          "height": 1000
        },
        "id": "VAhFpM8Up5ug",
        "outputId": "145a38dd-9d79-4217-ce57-09ef7f3cf0d7"
      },
      "execution_count": null,
      "outputs": [
        {
          "output_type": "stream",
          "name": "stdout",
          "text": [
            "70.0     52\n",
            "74.0     42\n",
            "78.0     38\n",
            "68.0     37\n",
            "64.0     36\n",
            "76.0     35\n",
            "72.0     33\n",
            "62.0     32\n",
            "80.0     31\n",
            "60.0     28\n",
            "82.0     28\n",
            "66.0     25\n",
            "84.0     21\n",
            "88.0     20\n",
            "90.0     19\n",
            "58.0     19\n",
            "86.0     18\n",
            "56.0     10\n",
            "50.0      9\n",
            "52.0      9\n",
            "54.0      8\n",
            "75.0      8\n",
            "94.0      5\n",
            "92.0      4\n",
            "44.0      4\n",
            "85.0      4\n",
            "96.0      4\n",
            "65.0      3\n",
            "110.0     3\n",
            "48.0      3\n",
            "98.0      3\n",
            "100.0     3\n",
            "108.0     2\n",
            "46.0      2\n",
            "30.0      2\n",
            "106.0     2\n",
            "104.0     2\n",
            "55.0      1\n",
            "24.0      1\n",
            "61.0      1\n",
            "102.0     1\n",
            "114.0     1\n",
            "Name: BloodPressure, dtype: int64\n"
          ]
        },
        {
          "output_type": "execute_result",
          "data": {
            "text/plain": [
              "<matplotlib.axes._subplots.AxesSubplot at 0x7f7c34771110>"
            ]
          },
          "metadata": {},
          "execution_count": 159
        },
        {
          "output_type": "display_data",
          "data": {
            "text/plain": [
              "<Figure size 432x288 with 1 Axes>"
            ],
            "image/png": "[encoded data removed]"
          },
          "metadata": {}
        }
      ]
    },
    {
      "cell_type": "code",
      "source": [
        "print(df['SkinThickness'].value_counts())\n",
        "plt.style.use('ggplot')\n",
        "print(df['SkinThickness'].hist())\n",
        "df.drop(df.index[(df.SkinThickness > 80)], inplace = True)\n",
        "\n",
        "#We use this histogram to see if there are any extreme/unrealistic values.\n",
        "#I dropped the values greater than 80 because they were far removed\n",
        "#from the rest of the data and skewed the data unecessarily."
      ],
      "metadata": {
        "colab": {
          "base_uri": "https://localhost:8080/",
          "height": 1000
        },
        "id": "nerIll8aqLri",
        "outputId": "cbde5453-a7a1-481c-efc2-7dad76cf8bd6"
      },
      "execution_count": null,
      "outputs": [
        {
          "output_type": "stream",
          "name": "stdout",
          "text": [
            "32.0    26\n",
            "30.0    21\n",
            "27.0    19\n",
            "23.0    18\n",
            "33.0    17\n",
            "31.0    16\n",
            "28.0    16\n",
            "26.0    15\n",
            "19.0    15\n",
            "37.0    15\n",
            "40.0    15\n",
            "39.0    15\n",
            "35.0    14\n",
            "22.0    14\n",
            "18.0    13\n",
            "41.0    13\n",
            "36.0    13\n",
            "25.0    13\n",
            "24.0    12\n",
            "29.0    12\n",
            "17.0    12\n",
            "13.0    11\n",
            "15.0     9\n",
            "21.0     9\n",
            "20.0     9\n",
            "46.0     8\n",
            "42.0     8\n",
            "34.0     7\n",
            "11.0     6\n",
            "38.0     6\n",
            "12.0     6\n",
            "16.0     5\n",
            "14.0     5\n",
            "47.0     4\n",
            "45.0     4\n",
            "43.0     4\n",
            "10.0     4\n",
            "44.0     4\n",
            "50.0     3\n",
            "48.0     3\n",
            "49.0     3\n",
            "7.0      2\n",
            "54.0     2\n",
            "52.0     2\n",
            "51.0     1\n",
            "99.0     1\n",
            "56.0     1\n",
            "63.0     1\n",
            "Name: SkinThickness, dtype: int64\n",
            "AxesSubplot(0.125,0.125;0.775x0.755)\n"
          ]
        },
        {
          "output_type": "display_data",
          "data": {
            "text/plain": [
              "<Figure size 432x288 with 1 Axes>"
            ],
            "image/png": "[encoded data removed]"
          },
          "metadata": {}
        }
      ]
    },
    {
      "cell_type": "code",
      "source": [
        "df['Insulin'].value_counts()\n",
        "plt.style.use('ggplot')\n",
        "print(df['Insulin'].hist())\n",
        "df.drop(df.index[(df.Insulin > 600)], inplace = True)\n",
        "\n",
        "#We use this histogram to see if there are any extreme/unrealistic values.\n",
        "#I dropped the values greater than 600 because they were far removed\n",
        "#from the rest of the data and skewed the data unecessarily.\n"
      ],
      "metadata": {
        "colab": {
          "base_uri": "https://localhost:8080/",
          "height": 282
        },
        "id": "6LTqezRWqapr",
        "outputId": "9955ab90-add0-4044-f023-1f6b41bad2ce"
      },
      "execution_count": null,
      "outputs": [
        {
          "output_type": "stream",
          "name": "stdout",
          "text": [
            "AxesSubplot(0.125,0.125;0.775x0.755)\n"
          ]
        },
        {
          "output_type": "display_data",
          "data": {
            "text/plain": [
              "<Figure size 432x288 with 1 Axes>"
            ],
            "image/png": "[encoded data removed]"
          },
          "metadata": {}
        }
      ]
    },
    {
      "cell_type": "code",
      "source": [
        "print(df['DiabetesPedigreeFunction'].value_counts())\n",
        "plt.style.use('ggplot')\n",
        "print(df['DiabetesPedigreeFunction'].hist())\n",
        "df.drop(df.index[(df.DiabetesPedigreeFunction > 1)], inplace = True)\n",
        "\n",
        "#There were some extreme values that skewed the data in this column,\n",
        "#they were extremely far away from the bulk of the data relatively,\n",
        "#so I had to delete these rows and used the histogram to test different\n",
        "#thresholds until I removed all the impossible/unreasonable data points.\n",
        "\n",
        "\n",
        "\n"
      ],
      "metadata": {
        "colab": {
          "base_uri": "https://localhost:8080/",
          "height": 504
        },
        "id": "LTgZ4inVq5v3",
        "outputId": "eed678dc-ecbf-4a5e-b9d1-4f9b18e0f76f"
      },
      "execution_count": null,
      "outputs": [
        {
          "output_type": "stream",
          "name": "stdout",
          "text": [
            "0.254    5\n",
            "0.260    4\n",
            "0.270    4\n",
            "0.304    4\n",
            "0.197    4\n",
            "        ..\n",
            "0.564    1\n",
            "0.598    1\n",
            "0.154    1\n",
            "0.126    1\n",
            "2.420    1\n",
            "Name: DiabetesPedigreeFunction, Length: 464, dtype: int64\n",
            "AxesSubplot(0.125,0.125;0.775x0.755)\n"
          ]
        },
        {
          "output_type": "display_data",
          "data": {
            "text/plain": [
              "<Figure size 432x288 with 1 Axes>"
            ],
            "image/png": "[encoded data removed]"
          },
          "metadata": {}
        }
      ]
    },
    {
      "cell_type": "code",
      "source": [
        "print(df['WeightGroup'].value_counts())\n",
        "df.replace({'obsese_3': 'obese_3'}, regex = True, inplace = True)\n",
        "print(df['WeightGroup'].value_counts())"
      ],
      "metadata": {
        "colab": {
          "base_uri": "https://localhost:8080/"
        },
        "id": "3LHHL5BPtC1y",
        "outputId": "4469fa30-e32a-4b33-d207-be1b3f64fc6c"
      },
      "execution_count": null,
      "outputs": [
        {
          "output_type": "stream",
          "name": "stdout",
          "text": [
            "obese_1           174\n",
            "overweight        125\n",
            "obese_2           116\n",
            "healthy weight     71\n",
            "obsese_3           69\n",
            "MISSING             6\n",
            "underweight         4\n",
            "Name: WeightGroup, dtype: Int64\n",
            "obese_1           174\n",
            "overweight        125\n",
            "obese_2           116\n",
            "healthy weight     71\n",
            "obese_3            69\n",
            "MISSING             6\n",
            "underweight         4\n",
            "Name: WeightGroup, dtype: Int64\n"
          ]
        }
      ]
    },
    {
      "cell_type": "code",
      "source": [
        "print(df['AgeGroup'].value_counts())\n",
        "df.loc[df['AgeGroup'] == '<65', 'AgeGroup'] = '>65'\n",
        "print(df['AgeGroup'].value_counts())"
      ],
      "metadata": {
        "colab": {
          "base_uri": "https://localhost:8080/"
        },
        "id": "NrbFcuLUxgi-",
        "outputId": "51215050-142c-4b98-b33c-4f3cc514b561"
      },
      "execution_count": null,
      "outputs": [
        {
          "output_type": "stream",
          "name": "stdout",
          "text": [
            "18 - 44    470\n",
            "45 - 64     84\n",
            ">65          8\n",
            "<65          3\n",
            "Name: AgeGroup, dtype: Int64\n",
            "18 - 44    470\n",
            "45 - 64     84\n",
            ">65         11\n",
            "Name: AgeGroup, dtype: Int64\n"
          ]
        }
      ]
    },
    {
      "cell_type": "code",
      "source": [
        "df['Gender'] = df['Gender'].replace('m', 'M')\n",
        "df['Gender'].value_counts()\n",
        "#Here I replaced the m with M to get consistent categorical data."
      ],
      "metadata": {
        "colab": {
          "base_uri": "https://localhost:8080/"
        },
        "id": "pe0X-Pt50ZGx",
        "outputId": "0437f1d6-6b88-441c-b0f4-f2437ec3d773"
      },
      "execution_count": null,
      "outputs": [
        {
          "output_type": "execute_result",
          "data": {
            "text/plain": [
              "F    497\n",
              "M     68\n",
              "Name: Gender, dtype: Int64"
            ]
          },
          "metadata": {},
          "execution_count": 165
        }
      ]
    },
    {
      "cell_type": "code",
      "source": [
        "df['Outcome'].value_counts()"
      ],
      "metadata": {
        "colab": {
          "base_uri": "https://localhost:8080/"
        },
        "id": "mK4E66H_0cDy",
        "outputId": "05d190a7-0027-4a47-acf5-52b539260801"
      },
      "execution_count": null,
      "outputs": [
        {
          "output_type": "execute_result",
          "data": {
            "text/plain": [
              "0    341\n",
              "1    224\n",
              "Name: Outcome, dtype: int64"
            ]
          },
          "metadata": {},
          "execution_count": 166
        }
      ]
    },
    {
      "cell_type": "code",
      "source": [
        "y = df['Outcome']\n",
        "X = df.drop(columns=['Outcome'])\n",
        "\n",
        "X_train, X_test, y_train, y_test = train_test_split(X, y, random_state=42)\n",
        "X.isna().any()"
      ],
      "metadata": {
        "id": "iuV8do-h0uxk",
        "colab": {
          "base_uri": "https://localhost:8080/"
        },
        "outputId": "0d7990fd-7e86-4b0d-cb35-63c7c4eadbfb"
      },
      "execution_count": null,
      "outputs": [
        {
          "output_type": "execute_result",
          "data": {
            "text/plain": [
              "Pregnancies                 False\n",
              "Glucose                      True\n",
              "BloodPressure                True\n",
              "SkinThickness                True\n",
              "Insulin                      True\n",
              "DiabetesPedigreeFunction    False\n",
              "WeightGroup                 False\n",
              "AgeGroup                    False\n",
              "Gender                      False\n",
              "dtype: bool"
            ]
          },
          "metadata": {},
          "execution_count": 167
        }
      ]
    },
    {
      "cell_type": "code",
      "source": [
        "plt.style.use('ggplot')\n",
        "X_train['Insulin'].hist()"
      ],
      "metadata": {
        "colab": {
          "base_uri": "https://localhost:8080/",
          "height": 282
        },
        "id": "ogwl61KMZUb-",
        "outputId": "24c45c71-766a-4677-9785-1e5307412012"
      },
      "execution_count": null,
      "outputs": [
        {
          "output_type": "execute_result",
          "data": {
            "text/plain": [
              "<matplotlib.axes._subplots.AxesSubplot at 0x7f7c345749d0>"
            ]
          },
          "metadata": {},
          "execution_count": 168
        },
        {
          "output_type": "display_data",
          "data": {
            "text/plain": [
              "<Figure size 432x288 with 1 Axes>"
            ],
            "image/png": "[encoded data removed]"
          },
          "metadata": {}
        }
      ]
    },
    {
      "cell_type": "code",
      "source": [
        "plt.style.use('ggplot')\n",
        "X_train['Glucose'].hist()"
      ],
      "metadata": {
        "colab": {
          "base_uri": "https://localhost:8080/",
          "height": 282
        },
        "id": "5nXsFz6SZft-",
        "outputId": "a08f7abe-6b38-4ce2-b670-bda50b4f516b"
      },
      "execution_count": null,
      "outputs": [
        {
          "output_type": "execute_result",
          "data": {
            "text/plain": [
              "<matplotlib.axes._subplots.AxesSubplot at 0x7f7c3448bb10>"
            ]
          },
          "metadata": {},
          "execution_count": 169
        },
        {
          "output_type": "display_data",
          "data": {
            "text/plain": [
              "<Figure size 432x288 with 1 Axes>"
            ],
            "image/png": "[encoded data removed]"
          },
          "metadata": {}
        }
      ]
    },
    {
      "cell_type": "code",
      "source": [
        "plt.style.use('ggplot')\n",
        "X_train['SkinThickness'].hist()"
      ],
      "metadata": {
        "colab": {
          "base_uri": "https://localhost:8080/",
          "height": 282
        },
        "id": "VDT-YXRRZkbx",
        "outputId": "9341357e-fdf5-4d2c-c374-649532409a7a"
      },
      "execution_count": null,
      "outputs": [
        {
          "output_type": "execute_result",
          "data": {
            "text/plain": [
              "<matplotlib.axes._subplots.AxesSubplot at 0x7f7c3448bd50>"
            ]
          },
          "metadata": {},
          "execution_count": 170
        },
        {
          "output_type": "display_data",
          "data": {
            "text/plain": [
              "<Figure size 432x288 with 1 Axes>"
            ],
            "image/png": "[encoded data removed]"
          },
          "metadata": {}
        }
      ]
    },
    {
      "cell_type": "code",
      "source": [
        "plt.style.use('ggplot')\n",
        "X_train['BloodPressure'].hist()"
      ],
      "metadata": {
        "colab": {
          "base_uri": "https://localhost:8080/",
          "height": 282
        },
        "id": "NcmcfERKZnte",
        "outputId": "39191db9-9aad-4349-e783-340a07715990"
      },
      "execution_count": null,
      "outputs": [
        {
          "output_type": "execute_result",
          "data": {
            "text/plain": [
              "<matplotlib.axes._subplots.AxesSubplot at 0x7f7c345f4b10>"
            ]
          },
          "metadata": {},
          "execution_count": 171
        },
        {
          "output_type": "display_data",
          "data": {
            "text/plain": [
              "<Figure size 432x288 with 1 Axes>"
            ],
            "image/png": "[encoded data removed]"
          },
          "metadata": {}
        }
      ]
    },
    {
      "cell_type": "markdown",
      "source": [
        "The four visualizations above show us the respective distributions of each of the columns containing missing values in our training data.  They show that the 'Glucose', 'SkinThickness', and 'BloodPressure' columns from the training set are not very skewed and follow the typical bell curve look.  However, the 'Insulin' column does not follow this typical distribution as much."
      ],
      "metadata": {
        "id": "1H0HpJ5VbIu8"
      }
    },
    {
      "cell_type": "code",
      "source": [
        "num_selector = make_column_selector(dtype_include='number')\n",
        "cat_selector = make_column_selector(dtype_include='object')\n",
        "mean_imputer = SimpleImputer(strategy='mean')\n",
        "med_imputer = SimpleImputer(strategy = 'median')\n",
        "med_imputer.fit(X_train[['Insulin']])\n",
        "mean_imputer.fit(X_train[['SkinThickness', 'BloodPressure', 'Glucose']])\n",
        "X_train.loc[:, ['Insulin']] = med_imputer.transform(X_train[['Insulin']])\n",
        "X_train.loc[:, ['SkinThickness', 'BloodPressure', 'Glucose']] = mean_imputer.transform(X_train[['SkinThickness', 'BloodPressure', 'Glucose']])\n",
        "X_test.loc[:, ['Insulin']] = med_imputer.transform(X_test[['Insulin']])\n",
        "X_test.loc[:, ['SkinThickness', 'BloodPressure', 'Glucose']] = mean_imputer.transform(X_test[['SkinThickness', 'BloodPressure', 'Glucose']])\n",
        "print(X_train.isna().any())\n",
        "print(X_test.isna().any())"
      ],
      "metadata": {
        "colab": {
          "base_uri": "https://localhost:8080/"
        },
        "id": "ZluQwlkXROAm",
        "outputId": "36f939a5-da09-498e-f174-b8729978c918"
      },
      "execution_count": null,
      "outputs": [
        {
          "output_type": "stream",
          "name": "stdout",
          "text": [
            "Pregnancies                 False\n",
            "Glucose                     False\n",
            "BloodPressure               False\n",
            "SkinThickness               False\n",
            "Insulin                     False\n",
            "DiabetesPedigreeFunction    False\n",
            "WeightGroup                 False\n",
            "AgeGroup                    False\n",
            "Gender                      False\n",
            "dtype: bool\n",
            "Pregnancies                 False\n",
            "Glucose                     False\n",
            "BloodPressure               False\n",
            "SkinThickness               False\n",
            "Insulin                     False\n",
            "DiabetesPedigreeFunction    False\n",
            "WeightGroup                 False\n",
            "AgeGroup                    False\n",
            "Gender                      False\n",
            "dtype: bool\n"
          ]
        }
      ]
    },
    {
      "cell_type": "markdown",
      "source": [
        "I imputed missing values from the 'Isulin' column with its median value because from looking at the histogram distribution of this column, it appears to be skewed, in which case it is beneficial to look at the median as more representative of a central typical value in the data.  I imputed missing values from 'SkinThickness', 'BloodPressure', and 'Glucose' columns with their mean values because these histograms, as shown above, were not very skewed, indicating that the mean would be a better measurement of a central typical value for those columns."
      ],
      "metadata": {
        "id": "BCowecOFYfvF"
      }
    },
    {
      "cell_type": "code",
      "source": [
        "corr=df.corr()\n",
        "sns.heatmap(corr, cmap = 'Greens', annot = True)"
      ],
      "metadata": {
        "colab": {
          "base_uri": "https://localhost:8080/",
          "height": 407
        },
        "id": "F6d35W8ybjPd",
        "outputId": "5e9d300a-b1d9-4aee-f1ba-d8e75c493241"
      },
      "execution_count": null,
      "outputs": [
        {
          "output_type": "execute_result",
          "data": {
            "text/plain": [
              "<matplotlib.axes._subplots.AxesSubplot at 0x7f7c34840910>"
            ]
          },
          "metadata": {},
          "execution_count": 173
        },
        {
          "output_type": "display_data",
          "data": {
            "text/plain": [
              "<Figure size 432x288 with 2 Axes>"
            ],
            "image/png": "[encoded data removed]"
          },
          "metadata": {}
        }
      ]
    },
    {
      "cell_type": "markdown",
      "source": [
        "From this correlation heatmap, we can see that the most correlated variables are Insulin and Glucose.  Of more importance, however, we can see that the most correlated variable with Outcome appears to be Glucose, with a correlation of 0.52.  The second most correlated variable with Outcome is Insulin at 0.37."
      ],
      "metadata": {
        "id": "_GT-MFt9cCWc"
      }
    },
    {
      "cell_type": "code",
      "source": [
        "# Define a dictionary for encoding our variables\n",
        "weights = [\"MISSING\", \"underweight\", \"healthy weight\", \"overweight\", \"obese_1\", \"obese_2\", \"obese_3\"]\n",
        "ages = [\"18 - 44\", \"45 - 64\", \">65\"]\n",
        "gender = [\"M\", \"F\"]"
      ],
      "metadata": {
        "id": "bIObEOl-r5L6"
      },
      "execution_count": null,
      "outputs": []
    },
    {
      "cell_type": "code",
      "source": [
        "categoricals = list(X_train.select_dtypes('string').columns)\n",
        "numericals = list(X_train.select_dtypes(exclude=['string']).columns)\n",
        "col_transformer = ColumnTransformer(transformers = [('ordinal_encoder', OrdinalEncoder(categories = [weights, ages, gender], handle_unknown = 'error'), categoricals), \n",
        "                                                    ('scaler', StandardScaler(), numericals)])\n",
        "log_reg_pipe = Pipeline(steps = [\n",
        "                                 (\"col_transformer\", col_transformer),\n",
        "                                 (\"model\", LogisticRegression(random_state = 42))\n",
        "])\n",
        "log_reg_pipe"
      ],
      "metadata": {
        "colab": {
          "base_uri": "https://localhost:8080/",
          "height": 192
        },
        "id": "U1jizRBsU16g",
        "outputId": "d21f208c-7164-4103-dcbb-429360f3514e"
      },
      "execution_count": null,
      "outputs": [
        {
          "output_type": "execute_result",
          "data": {
            "text/plain": [
              "Pipeline(steps=[('col_transformer',\n",
              "                 ColumnTransformer(transformers=[('ordinal_encoder',\n",
              "                                                  OrdinalEncoder(categories=[['MISSING',\n",
              "                                                                              'underweight',\n",
              "                                                                              'healthy '\n",
              "                                                                              'weight',\n",
              "                                                                              'overweight',\n",
              "                                                                              'obese_1',\n",
              "                                                                              'obese_2',\n",
              "                                                                              'obese_3'],\n",
              "                                                                             ['18 '\n",
              "                                                                              '- '\n",
              "                                                                              '44',\n",
              "                                                                              '45 '\n",
              "                                                                              '- '\n",
              "                                                                              '64',\n",
              "                                                                              '>65'],\n",
              "                                                                             ['M',\n",
              "                                                                              'F']]),\n",
              "                                                  ['WeightGroup', 'AgeGroup',\n",
              "                                                   'Gender']),\n",
              "                                                 ('scaler', StandardScaler(),\n",
              "                                                  ['Pregnancies', 'Glucose',\n",
              "                                                   'BloodPressure',\n",
              "                                                   'SkinThickness', 'Insulin',\n",
              "                                                   'DiabetesPedigreeFunction'])])),\n",
              "                ('model', LogisticRegression(random_state=42))])"
            ],
            "text/html": [
              "<style>#sk-c32c9c70-f8e5-42ef-a4bc-e0b12fa5f034 {color: black;background-color: white;}#sk-c32c9c70-f8e5-42ef-a4bc-e0b12fa5f034 pre{padding: 0;}#sk-c32c9c70-f8e5-42ef-a4bc-e0b12fa5f034 div.sk-toggleable {background-color: white;}#sk-c32c9c70-f8e5-42ef-a4bc-e0b12fa5f034 label.sk-toggleable__label {cursor: pointer;display: block;width: 100%;margin-bottom: 0;padding: 0.3em;box-sizing: border-box;text-align: center;}#sk-c32c9c70-f8e5-42ef-a4bc-e0b12fa5f034 label.sk-toggleable__label-arrow:before {content: \"▸\";float: left;margin-right: 0.25em;color: #696969;}#sk-c32c9c70-f8e5-42ef-a4bc-e0b12fa5f034 label.sk-toggleable__label-arrow:hover:before {color: black;}#sk-c32c9c70-f8e5-42ef-a4bc-e0b12fa5f034 div.sk-estimator:hover label.sk-toggleable__label-arrow:before {color: black;}#sk-c32c9c70-f8e5-42ef-a4bc-e0b12fa5f034 div.sk-toggleable__content {max-height: 0;max-width: 0;overflow: hidden;text-align: left;background-color: #f0f8ff;}#sk-c32c9c70-f8e5-42ef-a4bc-e0b12fa5f034 div.sk-toggleable__content pre {margin: 0.2em;color: black;border-radius: 0.25em;background-color: #f0f8ff;}#sk-c32c9c70-f8e5-42ef-a4bc-e0b12fa5f034 input.sk-toggleable__control:checked~div.sk-toggleable__content {max-height: 200px;max-width: 100%;overflow: auto;}#sk-c32c9c70-f8e5-42ef-a4bc-e0b12fa5f034 input.sk-toggleable__control:checked~label.sk-toggleable__label-arrow:before {content: \"▾\";}#sk-c32c9c70-f8e5-42ef-a4bc-e0b12fa5f034 div.sk-estimator input.sk-toggleable__control:checked~label.sk-toggleable__label {background-color: #d4ebff;}#sk-c32c9c70-f8e5-42ef-a4bc-e0b12fa5f034 div.sk-label input.sk-toggleable__control:checked~label.sk-toggleable__label {background-color: #d4ebff;}#sk-c32c9c70-f8e5-42ef-a4bc-e0b12fa5f034 input.sk-hidden--visually {border: 0;clip: rect(1px 1px 1px 1px);clip: rect(1px, 1px, 1px, 1px);height: 1px;margin: -1px;overflow: hidden;padding: 0;position: absolute;width: 1px;}#sk-c32c9c70-f8e5-42ef-a4bc-e0b12fa5f034 div.sk-estimator {font-family: monospace;background-color: #f0f8ff;border: 1px dotted black;border-radius: 0.25em;box-sizing: border-box;margin-bottom: 0.5em;}#sk-c32c9c70-f8e5-42ef-a4bc-e0b12fa5f034 div.sk-estimator:hover {background-color: #d4ebff;}#sk-c32c9c70-f8e5-42ef-a4bc-e0b12fa5f034 div.sk-parallel-item::after {content: \"\";width: 100%;border-bottom: 1px solid gray;flex-grow: 1;}#sk-c32c9c70-f8e5-42ef-a4bc-e0b12fa5f034 div.sk-label:hover label.sk-toggleable__label {background-color: #d4ebff;}#sk-c32c9c70-f8e5-42ef-a4bc-e0b12fa5f034 div.sk-serial::before {content: \"\";position: absolute;border-left: 1px solid gray;box-sizing: border-box;top: 2em;bottom: 0;left: 50%;}#sk-c32c9c70-f8e5-42ef-a4bc-e0b12fa5f034 div.sk-serial {display: flex;flex-direction: column;align-items: center;background-color: white;padding-right: 0.2em;padding-left: 0.2em;}#sk-c32c9c70-f8e5-42ef-a4bc-e0b12fa5f034 div.sk-item {z-index: 1;}#sk-c32c9c70-f8e5-42ef-a4bc-e0b12fa5f034 div.sk-parallel {display: flex;align-items: stretch;justify-content: center;background-color: white;}#sk-c32c9c70-f8e5-42ef-a4bc-e0b12fa5f034 div.sk-parallel::before {content: \"\";position: absolute;border-left: 1px solid gray;box-sizing: border-box;top: 2em;bottom: 0;left: 50%;}#sk-c32c9c70-f8e5-42ef-a4bc-e0b12fa5f034 div.sk-parallel-item {display: flex;flex-direction: column;position: relative;background-color: white;}#sk-c32c9c70-f8e5-42ef-a4bc-e0b12fa5f034 div.sk-parallel-item:first-child::after {align-self: flex-end;width: 50%;}#sk-c32c9c70-f8e5-42ef-a4bc-e0b12fa5f034 div.sk-parallel-item:last-child::after {align-self: flex-start;width: 50%;}#sk-c32c9c70-f8e5-42ef-a4bc-e0b12fa5f034 div.sk-parallel-item:only-child::after {width: 0;}#sk-c32c9c70-f8e5-42ef-a4bc-e0b12fa5f034 div.sk-dashed-wrapped {border: 1px dashed gray;margin: 0 0.4em 0.5em 0.4em;box-sizing: border-box;padding-bottom: 0.4em;background-color: white;position: relative;}#sk-c32c9c70-f8e5-42ef-a4bc-e0b12fa5f034 div.sk-label label {font-family: monospace;font-weight: bold;background-color: white;display: inline-block;line-height: 1.2em;}#sk-c32c9c70-f8e5-42ef-a4bc-e0b12fa5f034 div.sk-label-container {position: relative;z-index: 2;text-align: center;}#sk-c32c9c70-f8e5-42ef-a4bc-e0b12fa5f034 div.sk-container {/* jupyter's `normalize.less` sets `[hidden] { display: none; }` but bootstrap.min.css set `[hidden] { display: none !important; }` so we also need the `!important` here to be able to override the default hidden behavior on the sphinx rendered scikit-learn.org. See: https://github.com/scikit-learn/scikit-learn/issues/21755 */display: inline-block !important;position: relative;}#sk-c32c9c70-f8e5-42ef-a4bc-e0b12fa5f034 div.sk-text-repr-fallback {display: none;}</style><div id=\"sk-c32c9c70-f8e5-42ef-a4bc-e0b12fa5f034\" class=\"sk-top-container\"><div class=\"sk-text-repr-fallback\"><pre>Pipeline(steps=[(&#x27;col_transformer&#x27;,\n",
              "                 ColumnTransformer(transformers=[(&#x27;ordinal_encoder&#x27;,\n",
              "                                                  OrdinalEncoder(categories=[[&#x27;MISSING&#x27;,\n",
              "                                                                              &#x27;underweight&#x27;,\n",
              "                                                                              &#x27;healthy &#x27;\n",
              "                                                                              &#x27;weight&#x27;,\n",
              "                                                                              &#x27;overweight&#x27;,\n",
              "                                                                              &#x27;obese_1&#x27;,\n",
              "                                                                              &#x27;obese_2&#x27;,\n",
              "                                                                              &#x27;obese_3&#x27;],\n",
              "                                                                             [&#x27;18 &#x27;\n",
              "                                                                              &#x27;- &#x27;\n",
              "                                                                              &#x27;44&#x27;,\n",
              "                                                                              &#x27;45 &#x27;\n",
              "                                                                              &#x27;- &#x27;\n",
              "                                                                              &#x27;64&#x27;,\n",
              "                                                                              &#x27;&gt;65&#x27;],\n",
              "                                                                             [&#x27;M&#x27;,\n",
              "                                                                              &#x27;F&#x27;]]),\n",
              "                                                  [&#x27;WeightGroup&#x27;, &#x27;AgeGroup&#x27;,\n",
              "                                                   &#x27;Gender&#x27;]),\n",
              "                                                 (&#x27;scaler&#x27;, StandardScaler(),\n",
              "                                                  [&#x27;Pregnancies&#x27;, &#x27;Glucose&#x27;,\n",
              "                                                   &#x27;BloodPressure&#x27;,\n",
              "                                                   &#x27;SkinThickness&#x27;, &#x27;Insulin&#x27;,\n",
              "                                                   &#x27;DiabetesPedigreeFunction&#x27;])])),\n",
              "                (&#x27;model&#x27;, LogisticRegression(random_state=42))])</pre><b>Please rerun this cell to show the HTML repr or trust the notebook.</b></div><div class=\"sk-container\" hidden><div class=\"sk-item sk-dashed-wrapped\"><div class=\"sk-label-container\"><div class=\"sk-label sk-toggleable\"><input class=\"sk-toggleable__control sk-hidden--visually\" id=\"f4066ef2-ca2d-4b1c-a322-8af9f5ce62a9\" type=\"checkbox\" ><label for=\"f4066ef2-ca2d-4b1c-a322-8af9f5ce62a9\" class=\"sk-toggleable__label sk-toggleable__label-arrow\">Pipeline</label><div class=\"sk-toggleable__content\"><pre>Pipeline(steps=[(&#x27;col_transformer&#x27;,\n",
              "                 ColumnTransformer(transformers=[(&#x27;ordinal_encoder&#x27;,\n",
              "                                                  OrdinalEncoder(categories=[[&#x27;MISSING&#x27;,\n",
              "                                                                              &#x27;underweight&#x27;,\n",
              "                                                                              &#x27;healthy &#x27;\n",
              "                                                                              &#x27;weight&#x27;,\n",
              "                                                                              &#x27;overweight&#x27;,\n",
              "                                                                              &#x27;obese_1&#x27;,\n",
              "                                                                              &#x27;obese_2&#x27;,\n",
              "                                                                              &#x27;obese_3&#x27;],\n",
              "                                                                             [&#x27;18 &#x27;\n",
              "                                                                              &#x27;- &#x27;\n",
              "                                                                              &#x27;44&#x27;,\n",
              "                                                                              &#x27;45 &#x27;\n",
              "                                                                              &#x27;- &#x27;\n",
              "                                                                              &#x27;64&#x27;,\n",
              "                                                                              &#x27;&gt;65&#x27;],\n",
              "                                                                             [&#x27;M&#x27;,\n",
              "                                                                              &#x27;F&#x27;]]),\n",
              "                                                  [&#x27;WeightGroup&#x27;, &#x27;AgeGroup&#x27;,\n",
              "                                                   &#x27;Gender&#x27;]),\n",
              "                                                 (&#x27;scaler&#x27;, StandardScaler(),\n",
              "                                                  [&#x27;Pregnancies&#x27;, &#x27;Glucose&#x27;,\n",
              "                                                   &#x27;BloodPressure&#x27;,\n",
              "                                                   &#x27;SkinThickness&#x27;, &#x27;Insulin&#x27;,\n",
              "                                                   &#x27;DiabetesPedigreeFunction&#x27;])])),\n",
              "                (&#x27;model&#x27;, LogisticRegression(random_state=42))])</pre></div></div></div><div class=\"sk-serial\"><div class=\"sk-item sk-dashed-wrapped\"><div class=\"sk-label-container\"><div class=\"sk-label sk-toggleable\"><input class=\"sk-toggleable__control sk-hidden--visually\" id=\"d37a6466-0d51-46c9-838e-ffb922a96c85\" type=\"checkbox\" ><label for=\"d37a6466-0d51-46c9-838e-ffb922a96c85\" class=\"sk-toggleable__label sk-toggleable__label-arrow\">col_transformer: ColumnTransformer</label><div class=\"sk-toggleable__content\"><pre>ColumnTransformer(transformers=[(&#x27;ordinal_encoder&#x27;,\n",
              "                                 OrdinalEncoder(categories=[[&#x27;MISSING&#x27;,\n",
              "                                                             &#x27;underweight&#x27;,\n",
              "                                                             &#x27;healthy weight&#x27;,\n",
              "                                                             &#x27;overweight&#x27;,\n",
              "                                                             &#x27;obese_1&#x27;,\n",
              "                                                             &#x27;obese_2&#x27;,\n",
              "                                                             &#x27;obese_3&#x27;],\n",
              "                                                            [&#x27;18 - 44&#x27;,\n",
              "                                                             &#x27;45 - 64&#x27;, &#x27;&gt;65&#x27;],\n",
              "                                                            [&#x27;M&#x27;, &#x27;F&#x27;]]),\n",
              "                                 [&#x27;WeightGroup&#x27;, &#x27;AgeGroup&#x27;, &#x27;Gender&#x27;]),\n",
              "                                (&#x27;scaler&#x27;, StandardScaler(),\n",
              "                                 [&#x27;Pregnancies&#x27;, &#x27;Glucose&#x27;, &#x27;BloodPressure&#x27;,\n",
              "                                  &#x27;SkinThickness&#x27;, &#x27;Insulin&#x27;,\n",
              "                                  &#x27;DiabetesPedigreeFunction&#x27;])])</pre></div></div></div><div class=\"sk-parallel\"><div class=\"sk-parallel-item\"><div class=\"sk-item\"><div class=\"sk-label-container\"><div class=\"sk-label sk-toggleable\"><input class=\"sk-toggleable__control sk-hidden--visually\" id=\"44d045c0-8f16-43bd-bd18-3f4cb225c263\" type=\"checkbox\" ><label for=\"44d045c0-8f16-43bd-bd18-3f4cb225c263\" class=\"sk-toggleable__label sk-toggleable__label-arrow\">ordinal_encoder</label><div class=\"sk-toggleable__content\"><pre>[&#x27;WeightGroup&#x27;, &#x27;AgeGroup&#x27;, &#x27;Gender&#x27;]</pre></div></div></div><div class=\"sk-serial\"><div class=\"sk-item\"><div class=\"sk-estimator sk-toggleable\"><input class=\"sk-toggleable__control sk-hidden--visually\" id=\"2083196a-7f00-40d7-9413-c4a7b9d1823c\" type=\"checkbox\" ><label for=\"2083196a-7f00-40d7-9413-c4a7b9d1823c\" class=\"sk-toggleable__label sk-toggleable__label-arrow\">OrdinalEncoder</label><div class=\"sk-toggleable__content\"><pre>OrdinalEncoder(categories=[[&#x27;MISSING&#x27;, &#x27;underweight&#x27;, &#x27;healthy weight&#x27;,\n",
              "                            &#x27;overweight&#x27;, &#x27;obese_1&#x27;, &#x27;obese_2&#x27;, &#x27;obese_3&#x27;],\n",
              "                           [&#x27;18 - 44&#x27;, &#x27;45 - 64&#x27;, &#x27;&gt;65&#x27;], [&#x27;M&#x27;, &#x27;F&#x27;]])</pre></div></div></div></div></div></div><div class=\"sk-parallel-item\"><div class=\"sk-item\"><div class=\"sk-label-container\"><div class=\"sk-label sk-toggleable\"><input class=\"sk-toggleable__control sk-hidden--visually\" id=\"0ca2961d-f5ff-4fa4-bc35-f6507d105512\" type=\"checkbox\" ><label for=\"0ca2961d-f5ff-4fa4-bc35-f6507d105512\" class=\"sk-toggleable__label sk-toggleable__label-arrow\">scaler</label><div class=\"sk-toggleable__content\"><pre>[&#x27;Pregnancies&#x27;, &#x27;Glucose&#x27;, &#x27;BloodPressure&#x27;, &#x27;SkinThickness&#x27;, &#x27;Insulin&#x27;, &#x27;DiabetesPedigreeFunction&#x27;]</pre></div></div></div><div class=\"sk-serial\"><div class=\"sk-item\"><div class=\"sk-estimator sk-toggleable\"><input class=\"sk-toggleable__control sk-hidden--visually\" id=\"4eb8e647-57a9-400e-96e2-bde0faf65b5c\" type=\"checkbox\" ><label for=\"4eb8e647-57a9-400e-96e2-bde0faf65b5c\" class=\"sk-toggleable__label sk-toggleable__label-arrow\">StandardScaler</label><div class=\"sk-toggleable__content\"><pre>StandardScaler()</pre></div></div></div></div></div></div></div></div><div class=\"sk-item\"><div class=\"sk-estimator sk-toggleable\"><input class=\"sk-toggleable__control sk-hidden--visually\" id=\"1e8d6da1-2bb7-4415-ad6f-5576fe507bbe\" type=\"checkbox\" ><label for=\"1e8d6da1-2bb7-4415-ad6f-5576fe507bbe\" class=\"sk-toggleable__label sk-toggleable__label-arrow\">LogisticRegression</label><div class=\"sk-toggleable__content\"><pre>LogisticRegression(random_state=42)</pre></div></div></div></div></div></div></div>"
            ]
          },
          "metadata": {},
          "execution_count": 175
        }
      ]
    },
    {
      "cell_type": "markdown",
      "source": [
        "I encoded my categorial data with an ordinal encoder because the data does have a particular order.  Looking at the WeightGroup column, the data dictionary tells us that the the groups are based on the CDC's ordering of people from underweight as the lowest rank to obesity_3 at the top.  Furthermore, the AgeGroup column clearly has an ordering to it as well from youngest to oldest."
      ],
      "metadata": {
        "id": "Nstq-FFGlgHf"
      }
    },
    {
      "cell_type": "markdown",
      "source": [
        "Below I check the three primary metrics of categorical models, including recall, accuracy, and precision, for my initial default logistic regression model."
      ],
      "metadata": {
        "id": "BpyLW24tbkeG"
      }
    },
    {
      "cell_type": "code",
      "source": [
        "log_recalls_1 = cross_val_score(log_reg_pipe, X_train, y_train, scoring = \"recall\", cv=5)\n",
        "log_accuracies_1 = cross_val_score(log_reg_pipe, X_train, y_train, cv=5)\n",
        "log_precisions_1 = cross_val_score(log_reg_pipe, X_train, y_train, scoring = \"precision\", cv=5)\n",
        "\n",
        "print(f'Recall scores for each fold are: {log_recalls_1.round(2)}')\n",
        "print(f'Average recall across folds is {np.mean(log_recalls_1)}')\n",
        "print(f'Accuracy scores for each fold are: {log_accuracies_1.round(2)}')\n",
        "print(f'Average accuracy across folds is {np.mean(log_accuracies_1)}')\n",
        "print(f'Precision scores for each fold are: {log_precisions_1.round(2)}')\n",
        "print(f'Average precision across folds is {np.mean(log_precisions_1)}')"
      ],
      "metadata": {
        "id": "fEpy5zaXKov4",
        "outputId": "a74bed0e-1cb3-45e6-8175-22d96ec42722",
        "colab": {
          "base_uri": "https://localhost:8080/"
        }
      },
      "execution_count": null,
      "outputs": [
        {
          "output_type": "stream",
          "name": "stdout",
          "text": [
            "Recall scores for each fold are: [0.69 0.61 0.69 0.66 0.51]\n",
            "Average recall across folds is 0.6325396825396825\n",
            "Accuracy scores for each fold are: [0.76 0.73 0.76 0.74 0.74]\n",
            "Average accuracy across folds is 0.7470028011204481\n",
            "Precision scores for each fold are: [0.73 0.71 0.74 0.7  0.78]\n",
            "Average precision across folds is 0.7303645313792991\n"
          ]
        }
      ]
    },
    {
      "cell_type": "markdown",
      "source": [
        "Next, I run a confusion matrix to assess which metric specifically I need to focus on improving..."
      ],
      "metadata": {
        "id": "ivwXUtoXb2ao"
      }
    },
    {
      "cell_type": "code",
      "source": [
        "log_reg_pipe.fit(X_train, y_train)\n",
        "ylog1 = log_reg_pipe.predict(X_test)\n",
        "labels = ['No Diabetes', 'Yes Diabetes']\n",
        "ConfusionMatrixDisplay.from_predictions(y_test, ylog1, display_labels=labels, cmap='Blues', normalize='true')\n"
      ],
      "metadata": {
        "id": "98PCrQpcitXd",
        "outputId": "a08970b3-5e9b-4e3a-f36c-decaaa6bdf62",
        "colab": {
          "base_uri": "https://localhost:8080/",
          "height": 299
        }
      },
      "execution_count": null,
      "outputs": [
        {
          "output_type": "execute_result",
          "data": {
            "text/plain": [
              "<sklearn.metrics._plot.confusion_matrix.ConfusionMatrixDisplay at 0x7f7c35277b90>"
            ]
          },
          "metadata": {},
          "execution_count": 177
        },
        {
          "output_type": "display_data",
          "data": {
            "text/plain": [
              "<Figure size 432x288 with 2 Axes>"
            ],
            "image/png": "[encoded data removed]"
          },
          "metadata": {}
        }
      ]
    },
    {
      "cell_type": "markdown",
      "source": [
        "The worst case scenario would be a false negative, where somebody is told they do not have diabetes when indeed they do.  This meight lead people to not obtian the necessary treatment and care they need and may even result in death.  We need to tune our parameters to reduce the number of false negatives as much as we can.  These are known as type II errors, and improving the recall metric is the best way to address this."
      ],
      "metadata": {
        "id": "ySsbZ7V8E9kf"
      }
    },
    {
      "cell_type": "markdown",
      "source": [
        "Next, I will go through the same process as above but for a different KNN model."
      ],
      "metadata": {
        "id": "pU5Kj589cGzC"
      }
    },
    {
      "cell_type": "code",
      "source": [
        "knn_pipe = Pipeline(steps = [\n",
        "                                 (\"col_transformer\", col_transformer),\n",
        "                                 (\"model\", KNeighborsClassifier(n_neighbors = 2))\n",
        "])\n",
        "knn_pipe"
      ],
      "metadata": {
        "id": "mpWXgyT3P9zp",
        "outputId": "9ef4ccdc-0847-46d4-b0b9-9601863ee93f",
        "colab": {
          "base_uri": "https://localhost:8080/",
          "height": 192
        }
      },
      "execution_count": null,
      "outputs": [
        {
          "output_type": "execute_result",
          "data": {
            "text/plain": [
              "Pipeline(steps=[('col_transformer',\n",
              "                 ColumnTransformer(transformers=[('ordinal_encoder',\n",
              "                                                  OrdinalEncoder(categories=[['MISSING',\n",
              "                                                                              'underweight',\n",
              "                                                                              'healthy '\n",
              "                                                                              'weight',\n",
              "                                                                              'overweight',\n",
              "                                                                              'obese_1',\n",
              "                                                                              'obese_2',\n",
              "                                                                              'obese_3'],\n",
              "                                                                             ['18 '\n",
              "                                                                              '- '\n",
              "                                                                              '44',\n",
              "                                                                              '45 '\n",
              "                                                                              '- '\n",
              "                                                                              '64',\n",
              "                                                                              '>65'],\n",
              "                                                                             ['M',\n",
              "                                                                              'F']]),\n",
              "                                                  ['WeightGroup', 'AgeGroup',\n",
              "                                                   'Gender']),\n",
              "                                                 ('scaler', StandardScaler(),\n",
              "                                                  ['Pregnancies', 'Glucose',\n",
              "                                                   'BloodPressure',\n",
              "                                                   'SkinThickness', 'Insulin',\n",
              "                                                   'DiabetesPedigreeFunction'])])),\n",
              "                ('model', KNeighborsClassifier(n_neighbors=2))])"
            ],
            "text/html": [
              "<style>#sk-48e8c382-1f8d-412e-9954-3a1cf860035c {color: black;background-color: white;}#sk-48e8c382-1f8d-412e-9954-3a1cf860035c pre{padding: 0;}#sk-48e8c382-1f8d-412e-9954-3a1cf860035c div.sk-toggleable {background-color: white;}#sk-48e8c382-1f8d-412e-9954-3a1cf860035c label.sk-toggleable__label {cursor: pointer;display: block;width: 100%;margin-bottom: 0;padding: 0.3em;box-sizing: border-box;text-align: center;}#sk-48e8c382-1f8d-412e-9954-3a1cf860035c label.sk-toggleable__label-arrow:before {content: \"▸\";float: left;margin-right: 0.25em;color: #696969;}#sk-48e8c382-1f8d-412e-9954-3a1cf860035c label.sk-toggleable__label-arrow:hover:before {color: black;}#sk-48e8c382-1f8d-412e-9954-3a1cf860035c div.sk-estimator:hover label.sk-toggleable__label-arrow:before {color: black;}#sk-48e8c382-1f8d-412e-9954-3a1cf860035c div.sk-toggleable__content {max-height: 0;max-width: 0;overflow: hidden;text-align: left;background-color: #f0f8ff;}#sk-48e8c382-1f8d-412e-9954-3a1cf860035c div.sk-toggleable__content pre {margin: 0.2em;color: black;border-radius: 0.25em;background-color: #f0f8ff;}#sk-48e8c382-1f8d-412e-9954-3a1cf860035c input.sk-toggleable__control:checked~div.sk-toggleable__content {max-height: 200px;max-width: 100%;overflow: auto;}#sk-48e8c382-1f8d-412e-9954-3a1cf860035c input.sk-toggleable__control:checked~label.sk-toggleable__label-arrow:before {content: \"▾\";}#sk-48e8c382-1f8d-412e-9954-3a1cf860035c div.sk-estimator input.sk-toggleable__control:checked~label.sk-toggleable__label {background-color: #d4ebff;}#sk-48e8c382-1f8d-412e-9954-3a1cf860035c div.sk-label input.sk-toggleable__control:checked~label.sk-toggleable__label {background-color: #d4ebff;}#sk-48e8c382-1f8d-412e-9954-3a1cf860035c input.sk-hidden--visually {border: 0;clip: rect(1px 1px 1px 1px);clip: rect(1px, 1px, 1px, 1px);height: 1px;margin: -1px;overflow: hidden;padding: 0;position: absolute;width: 1px;}#sk-48e8c382-1f8d-412e-9954-3a1cf860035c div.sk-estimator {font-family: monospace;background-color: #f0f8ff;border: 1px dotted black;border-radius: 0.25em;box-sizing: border-box;margin-bottom: 0.5em;}#sk-48e8c382-1f8d-412e-9954-3a1cf860035c div.sk-estimator:hover {background-color: #d4ebff;}#sk-48e8c382-1f8d-412e-9954-3a1cf860035c div.sk-parallel-item::after {content: \"\";width: 100%;border-bottom: 1px solid gray;flex-grow: 1;}#sk-48e8c382-1f8d-412e-9954-3a1cf860035c div.sk-label:hover label.sk-toggleable__label {background-color: #d4ebff;}#sk-48e8c382-1f8d-412e-9954-3a1cf860035c div.sk-serial::before {content: \"\";position: absolute;border-left: 1px solid gray;box-sizing: border-box;top: 2em;bottom: 0;left: 50%;}#sk-48e8c382-1f8d-412e-9954-3a1cf860035c div.sk-serial {display: flex;flex-direction: column;align-items: center;background-color: white;padding-right: 0.2em;padding-left: 0.2em;}#sk-48e8c382-1f8d-412e-9954-3a1cf860035c div.sk-item {z-index: 1;}#sk-48e8c382-1f8d-412e-9954-3a1cf860035c div.sk-parallel {display: flex;align-items: stretch;justify-content: center;background-color: white;}#sk-48e8c382-1f8d-412e-9954-3a1cf860035c div.sk-parallel::before {content: \"\";position: absolute;border-left: 1px solid gray;box-sizing: border-box;top: 2em;bottom: 0;left: 50%;}#sk-48e8c382-1f8d-412e-9954-3a1cf860035c div.sk-parallel-item {display: flex;flex-direction: column;position: relative;background-color: white;}#sk-48e8c382-1f8d-412e-9954-3a1cf860035c div.sk-parallel-item:first-child::after {align-self: flex-end;width: 50%;}#sk-48e8c382-1f8d-412e-9954-3a1cf860035c div.sk-parallel-item:last-child::after {align-self: flex-start;width: 50%;}#sk-48e8c382-1f8d-412e-9954-3a1cf860035c div.sk-parallel-item:only-child::after {width: 0;}#sk-48e8c382-1f8d-412e-9954-3a1cf860035c div.sk-dashed-wrapped {border: 1px dashed gray;margin: 0 0.4em 0.5em 0.4em;box-sizing: border-box;padding-bottom: 0.4em;background-color: white;position: relative;}#sk-48e8c382-1f8d-412e-9954-3a1cf860035c div.sk-label label {font-family: monospace;font-weight: bold;background-color: white;display: inline-block;line-height: 1.2em;}#sk-48e8c382-1f8d-412e-9954-3a1cf860035c div.sk-label-container {position: relative;z-index: 2;text-align: center;}#sk-48e8c382-1f8d-412e-9954-3a1cf860035c div.sk-container {/* jupyter's `normalize.less` sets `[hidden] { display: none; }` but bootstrap.min.css set `[hidden] { display: none !important; }` so we also need the `!important` here to be able to override the default hidden behavior on the sphinx rendered scikit-learn.org. See: https://github.com/scikit-learn/scikit-learn/issues/21755 */display: inline-block !important;position: relative;}#sk-48e8c382-1f8d-412e-9954-3a1cf860035c div.sk-text-repr-fallback {display: none;}</style><div id=\"sk-48e8c382-1f8d-412e-9954-3a1cf860035c\" class=\"sk-top-container\"><div class=\"sk-text-repr-fallback\"><pre>Pipeline(steps=[(&#x27;col_transformer&#x27;,\n",
              "                 ColumnTransformer(transformers=[(&#x27;ordinal_encoder&#x27;,\n",
              "                                                  OrdinalEncoder(categories=[[&#x27;MISSING&#x27;,\n",
              "                                                                              &#x27;underweight&#x27;,\n",
              "                                                                              &#x27;healthy &#x27;\n",
              "                                                                              &#x27;weight&#x27;,\n",
              "                                                                              &#x27;overweight&#x27;,\n",
              "                                                                              &#x27;obese_1&#x27;,\n",
              "                                                                              &#x27;obese_2&#x27;,\n",
              "                                                                              &#x27;obese_3&#x27;],\n",
              "                                                                             [&#x27;18 &#x27;\n",
              "                                                                              &#x27;- &#x27;\n",
              "                                                                              &#x27;44&#x27;,\n",
              "                                                                              &#x27;45 &#x27;\n",
              "                                                                              &#x27;- &#x27;\n",
              "                                                                              &#x27;64&#x27;,\n",
              "                                                                              &#x27;&gt;65&#x27;],\n",
              "                                                                             [&#x27;M&#x27;,\n",
              "                                                                              &#x27;F&#x27;]]),\n",
              "                                                  [&#x27;WeightGroup&#x27;, &#x27;AgeGroup&#x27;,\n",
              "                                                   &#x27;Gender&#x27;]),\n",
              "                                                 (&#x27;scaler&#x27;, StandardScaler(),\n",
              "                                                  [&#x27;Pregnancies&#x27;, &#x27;Glucose&#x27;,\n",
              "                                                   &#x27;BloodPressure&#x27;,\n",
              "                                                   &#x27;SkinThickness&#x27;, &#x27;Insulin&#x27;,\n",
              "                                                   &#x27;DiabetesPedigreeFunction&#x27;])])),\n",
              "                (&#x27;model&#x27;, KNeighborsClassifier(n_neighbors=2))])</pre><b>Please rerun this cell to show the HTML repr or trust the notebook.</b></div><div class=\"sk-container\" hidden><div class=\"sk-item sk-dashed-wrapped\"><div class=\"sk-label-container\"><div class=\"sk-label sk-toggleable\"><input class=\"sk-toggleable__control sk-hidden--visually\" id=\"1d422bd2-c960-415c-ab3b-2852c7f2fbd9\" type=\"checkbox\" ><label for=\"1d422bd2-c960-415c-ab3b-2852c7f2fbd9\" class=\"sk-toggleable__label sk-toggleable__label-arrow\">Pipeline</label><div class=\"sk-toggleable__content\"><pre>Pipeline(steps=[(&#x27;col_transformer&#x27;,\n",
              "                 ColumnTransformer(transformers=[(&#x27;ordinal_encoder&#x27;,\n",
              "                                                  OrdinalEncoder(categories=[[&#x27;MISSING&#x27;,\n",
              "                                                                              &#x27;underweight&#x27;,\n",
              "                                                                              &#x27;healthy &#x27;\n",
              "                                                                              &#x27;weight&#x27;,\n",
              "                                                                              &#x27;overweight&#x27;,\n",
              "                                                                              &#x27;obese_1&#x27;,\n",
              "                                                                              &#x27;obese_2&#x27;,\n",
              "                                                                              &#x27;obese_3&#x27;],\n",
              "                                                                             [&#x27;18 &#x27;\n",
              "                                                                              &#x27;- &#x27;\n",
              "                                                                              &#x27;44&#x27;,\n",
              "                                                                              &#x27;45 &#x27;\n",
              "                                                                              &#x27;- &#x27;\n",
              "                                                                              &#x27;64&#x27;,\n",
              "                                                                              &#x27;&gt;65&#x27;],\n",
              "                                                                             [&#x27;M&#x27;,\n",
              "                                                                              &#x27;F&#x27;]]),\n",
              "                                                  [&#x27;WeightGroup&#x27;, &#x27;AgeGroup&#x27;,\n",
              "                                                   &#x27;Gender&#x27;]),\n",
              "                                                 (&#x27;scaler&#x27;, StandardScaler(),\n",
              "                                                  [&#x27;Pregnancies&#x27;, &#x27;Glucose&#x27;,\n",
              "                                                   &#x27;BloodPressure&#x27;,\n",
              "                                                   &#x27;SkinThickness&#x27;, &#x27;Insulin&#x27;,\n",
              "                                                   &#x27;DiabetesPedigreeFunction&#x27;])])),\n",
              "                (&#x27;model&#x27;, KNeighborsClassifier(n_neighbors=2))])</pre></div></div></div><div class=\"sk-serial\"><div class=\"sk-item sk-dashed-wrapped\"><div class=\"sk-label-container\"><div class=\"sk-label sk-toggleable\"><input class=\"sk-toggleable__control sk-hidden--visually\" id=\"ff34ff59-8b2d-41e5-bfed-f89314f1c4bb\" type=\"checkbox\" ><label for=\"ff34ff59-8b2d-41e5-bfed-f89314f1c4bb\" class=\"sk-toggleable__label sk-toggleable__label-arrow\">col_transformer: ColumnTransformer</label><div class=\"sk-toggleable__content\"><pre>ColumnTransformer(transformers=[(&#x27;ordinal_encoder&#x27;,\n",
              "                                 OrdinalEncoder(categories=[[&#x27;MISSING&#x27;,\n",
              "                                                             &#x27;underweight&#x27;,\n",
              "                                                             &#x27;healthy weight&#x27;,\n",
              "                                                             &#x27;overweight&#x27;,\n",
              "                                                             &#x27;obese_1&#x27;,\n",
              "                                                             &#x27;obese_2&#x27;,\n",
              "                                                             &#x27;obese_3&#x27;],\n",
              "                                                            [&#x27;18 - 44&#x27;,\n",
              "                                                             &#x27;45 - 64&#x27;, &#x27;&gt;65&#x27;],\n",
              "                                                            [&#x27;M&#x27;, &#x27;F&#x27;]]),\n",
              "                                 [&#x27;WeightGroup&#x27;, &#x27;AgeGroup&#x27;, &#x27;Gender&#x27;]),\n",
              "                                (&#x27;scaler&#x27;, StandardScaler(),\n",
              "                                 [&#x27;Pregnancies&#x27;, &#x27;Glucose&#x27;, &#x27;BloodPressure&#x27;,\n",
              "                                  &#x27;SkinThickness&#x27;, &#x27;Insulin&#x27;,\n",
              "                                  &#x27;DiabetesPedigreeFunction&#x27;])])</pre></div></div></div><div class=\"sk-parallel\"><div class=\"sk-parallel-item\"><div class=\"sk-item\"><div class=\"sk-label-container\"><div class=\"sk-label sk-toggleable\"><input class=\"sk-toggleable__control sk-hidden--visually\" id=\"10f834fe-3d45-4dc4-be10-7ec351a26d32\" type=\"checkbox\" ><label for=\"10f834fe-3d45-4dc4-be10-7ec351a26d32\" class=\"sk-toggleable__label sk-toggleable__label-arrow\">ordinal_encoder</label><div class=\"sk-toggleable__content\"><pre>[&#x27;WeightGroup&#x27;, &#x27;AgeGroup&#x27;, &#x27;Gender&#x27;]</pre></div></div></div><div class=\"sk-serial\"><div class=\"sk-item\"><div class=\"sk-estimator sk-toggleable\"><input class=\"sk-toggleable__control sk-hidden--visually\" id=\"caf44050-5bd2-4b1c-86d1-d3454bbcb329\" type=\"checkbox\" ><label for=\"caf44050-5bd2-4b1c-86d1-d3454bbcb329\" class=\"sk-toggleable__label sk-toggleable__label-arrow\">OrdinalEncoder</label><div class=\"sk-toggleable__content\"><pre>OrdinalEncoder(categories=[[&#x27;MISSING&#x27;, &#x27;underweight&#x27;, &#x27;healthy weight&#x27;,\n",
              "                            &#x27;overweight&#x27;, &#x27;obese_1&#x27;, &#x27;obese_2&#x27;, &#x27;obese_3&#x27;],\n",
              "                           [&#x27;18 - 44&#x27;, &#x27;45 - 64&#x27;, &#x27;&gt;65&#x27;], [&#x27;M&#x27;, &#x27;F&#x27;]])</pre></div></div></div></div></div></div><div class=\"sk-parallel-item\"><div class=\"sk-item\"><div class=\"sk-label-container\"><div class=\"sk-label sk-toggleable\"><input class=\"sk-toggleable__control sk-hidden--visually\" id=\"57664161-1881-4ca7-9d93-4e63653f26ba\" type=\"checkbox\" ><label for=\"57664161-1881-4ca7-9d93-4e63653f26ba\" class=\"sk-toggleable__label sk-toggleable__label-arrow\">scaler</label><div class=\"sk-toggleable__content\"><pre>[&#x27;Pregnancies&#x27;, &#x27;Glucose&#x27;, &#x27;BloodPressure&#x27;, &#x27;SkinThickness&#x27;, &#x27;Insulin&#x27;, &#x27;DiabetesPedigreeFunction&#x27;]</pre></div></div></div><div class=\"sk-serial\"><div class=\"sk-item\"><div class=\"sk-estimator sk-toggleable\"><input class=\"sk-toggleable__control sk-hidden--visually\" id=\"adbfe2d0-db2e-4a53-b12d-ef1c35bd6432\" type=\"checkbox\" ><label for=\"adbfe2d0-db2e-4a53-b12d-ef1c35bd6432\" class=\"sk-toggleable__label sk-toggleable__label-arrow\">StandardScaler</label><div class=\"sk-toggleable__content\"><pre>StandardScaler()</pre></div></div></div></div></div></div></div></div><div class=\"sk-item\"><div class=\"sk-estimator sk-toggleable\"><input class=\"sk-toggleable__control sk-hidden--visually\" id=\"21ee79d0-58e5-44b0-b53e-ceca9a3be5b6\" type=\"checkbox\" ><label for=\"21ee79d0-58e5-44b0-b53e-ceca9a3be5b6\" class=\"sk-toggleable__label sk-toggleable__label-arrow\">KNeighborsClassifier</label><div class=\"sk-toggleable__content\"><pre>KNeighborsClassifier(n_neighbors=2)</pre></div></div></div></div></div></div></div>"
            ]
          },
          "metadata": {},
          "execution_count": 178
        }
      ]
    },
    {
      "cell_type": "markdown",
      "source": [
        "Below are the metrics of recall, accuracy, and precision for my default KNN model."
      ],
      "metadata": {
        "id": "DeC24wH3cKTq"
      }
    },
    {
      "cell_type": "code",
      "source": [
        "knn_recalls_1 = cross_val_score(knn_pipe, X_train, y_train, scoring = \"recall\", cv=5)\n",
        "knn_accuracies_1 = cross_val_score(knn_pipe, X_train, y_train, cv=5)\n",
        "knn_precisions_1 = cross_val_score(knn_pipe, X_train, y_train, scoring = \"precision\", cv=5)\n",
        "\n",
        "print(f'Recall scores for each fold are: {knn_recalls_1.round(2)}')\n",
        "print(f'Average recall across folds is {np.mean(knn_recalls_1)}')\n",
        "print(f'Accuracy scores for each fold are: {knn_accuracies_1.round(2)}')\n",
        "print(f'Average accuracy across folds is {np.mean(knn_accuracies_1)}')\n",
        "print(f'Precision scores for each fold are: {knn_precisions_1.round(2)}')\n",
        "print(f'Average precision across folds is {np.mean(knn_precisions_1)}')"
      ],
      "metadata": {
        "id": "OnZMJXNtK4g5",
        "outputId": "f05c3bc2-9fc4-4db7-ce1a-ae1f7430872a",
        "colab": {
          "base_uri": "https://localhost:8080/"
        }
      },
      "execution_count": null,
      "outputs": [
        {
          "output_type": "stream",
          "name": "stdout",
          "text": [
            "Recall scores for each fold are: [0.34 0.36 0.47 0.49 0.37]\n",
            "Average recall across folds is 0.4066666666666666\n",
            "Accuracy scores for each fold are: [0.65 0.66 0.71 0.73 0.64]\n",
            "Average accuracy across folds is 0.6761624649859944\n",
            "Precision scores for each fold are: [0.63 0.68 0.74 0.77 0.62]\n",
            "Average precision across folds is 0.6893389600483422\n"
          ]
        }
      ]
    },
    {
      "cell_type": "code",
      "source": [
        "knn_pipe.fit(X_train, y_train)\n",
        "yknn1 = knn_pipe.predict(X_test)\n",
        "labels = ['No Diabetes', 'Yes Diabetes']\n",
        "ConfusionMatrixDisplay.from_predictions(y_test, yknn1, display_labels=labels, cmap='Blues', normalize='true')\n"
      ],
      "metadata": {
        "id": "2T6uTwMHP-aw",
        "outputId": "d7ce672c-fdcd-439d-bea5-a31c737a1308",
        "colab": {
          "base_uri": "https://localhost:8080/",
          "height": 299
        }
      },
      "execution_count": null,
      "outputs": [
        {
          "output_type": "execute_result",
          "data": {
            "text/plain": [
              "<sklearn.metrics._plot.confusion_matrix.ConfusionMatrixDisplay at 0x7f7c35210210>"
            ]
          },
          "metadata": {},
          "execution_count": 180
        },
        {
          "output_type": "display_data",
          "data": {
            "text/plain": [
              "<Figure size 432x288 with 2 Axes>"
            ],
            "image/png": "[encoded data removed]"
          },
          "metadata": {}
        }
      ]
    },
    {
      "cell_type": "markdown",
      "source": [
        "As we can see again, type II errors are heavily present and need to be reduced by improving the recall of our model."
      ],
      "metadata": {
        "id": "lXZldN5GcPE3"
      }
    },
    {
      "cell_type": "markdown",
      "source": [
        "We will begin by trying to improve the recall on our logistic regression model:"
      ],
      "metadata": {
        "id": "1Jo5yIheLsFZ"
      }
    },
    {
      "cell_type": "code",
      "source": [
        "# create a list of c values and empty lists for scores\n",
        "c_values = [0.0001, 0.001, 0.01, 0.1, 1, 10, 100, 1000]\n",
        "train_scores = []\n",
        "bestrecall = 0\n",
        "#iterative over the c values\n",
        "for c in c_values:\n",
        " \n",
        "  # establish a dummy log_reg_pipe function to test different c values\n",
        "  log_reg_pipe_dummy = Pipeline(steps = [\n",
        "                                  (\"col_transformer\", col_transformer),\n",
        "                                  (\"model\", LogisticRegression(C=c, random_state = 42))\n",
        "  ])\n",
        "  rec_scores = cross_val_score(log_reg_pipe_dummy, X_train, y_train, scoring='recall', cv=5)\n",
        "  train_scores.append(np.mean(rec_scores))\n",
        "  #if recall for this k is better than previous accuracies, set bestk = k\n",
        "  if np.mean(rec_scores) > bestrecall:\n",
        "    bestrecall = np.mean(rec_scores)\n",
        "    bestc = c\n",
        " \n",
        "#plot the change in accuracy as we change the value of C\n",
        "fig, ax = plt.subplots(1,1)\n",
        "ax.plot(c_values, train_scores, label='Training Recall')\n",
        "ax.set_xticks(c_values)\n",
        "ax.set_title('Change in recall over C values for l1 regularization')\n",
        "ax.legend()\n",
        " \n",
        "#set the x axis to a logarithmic scale to show the values of C in even intervals\n",
        "ax.set_xscale('log')\n",
        "# print a dictionary of values of C and accuracy scores\n",
        "{c:score for c, score in zip(c_values, train_scores)}"
      ],
      "metadata": {
        "id": "bjtSwQ0pALy8",
        "outputId": "89fbe48d-00f6-4ceb-d36c-a89de3f4374d",
        "colab": {
          "base_uri": "https://localhost:8080/",
          "height": 425
        }
      },
      "execution_count": null,
      "outputs": [
        {
          "output_type": "execute_result",
          "data": {
            "text/plain": [
              "{0.0001: 0.0,\n",
              " 0.001: 0.06793650793650793,\n",
              " 0.01: 0.5534920634920635,\n",
              " 0.1: 0.6157142857142857,\n",
              " 1: 0.6325396825396825,\n",
              " 10: 0.638095238095238,\n",
              " 100: 0.6438095238095238,\n",
              " 1000: 0.6438095238095238}"
            ]
          },
          "metadata": {},
          "execution_count": 181
        },
        {
          "output_type": "display_data",
          "data": {
            "text/plain": [
              "<Figure size 432x288 with 1 Axes>"
            ],
            "image/png": "[encoded data removed]"
          },
          "metadata": {}
        }
      ]
    },
    {
      "cell_type": "markdown",
      "source": [
        "From here can can see that the best average recall score is obtained 0.64308 when C = 10.  Below are the classification metrics for the updated logistic regression model for when C = 10:"
      ],
      "metadata": {
        "id": "IF2j9patch0J"
      }
    },
    {
      "cell_type": "code",
      "source": [
        "log_reg_pipe_best = Pipeline(steps = [\n",
        "                                 (\"col_transformer\", col_transformer),\n",
        "                                 (\"model\", LogisticRegression(C = 10, random_state = 42))\n",
        "])\n",
        "log_reg_pipe_best.fit(X_train, y_train)\n",
        "ylog2 = log_reg_pipe_best.predict(X_test)\n",
        "\n",
        "log_recalls_2 = cross_val_score(log_reg_pipe_best, X_train, y_train, scoring = \"recall\", cv=5)\n",
        "log_accuracies_2 = cross_val_score(log_reg_pipe_best, X_train, y_train, cv=5)\n",
        "log_precisions_2 = cross_val_score(log_reg_pipe_best, X_train, y_train, scoring = \"precision\", cv=5)\n",
        "\n",
        "print(f'Recall scores for each fold are: {log_recalls_2.round(2)}')\n",
        "print(f'Average recall across folds is {np.mean(log_recalls_2)}')\n",
        "print(f'Accuracy scores for each fold are: {log_accuracies_2.round(2)}')\n",
        "print(f'Average accuracy across folds is {np.mean(log_accuracies_2)}')\n",
        "print(f'Precision scores for each fold are: {log_precisions_2.round(2)}')\n",
        "print(f'Average precision across folds is {np.mean(log_precisions_2)}')\n",
        "\n"
      ],
      "metadata": {
        "id": "jonELu9pSc7J",
        "outputId": "db22184e-3763-4353-e290-031306311be8",
        "colab": {
          "base_uri": "https://localhost:8080/"
        }
      },
      "execution_count": null,
      "outputs": [
        {
          "output_type": "stream",
          "name": "stdout",
          "text": [
            "Recall scores for each fold are: [0.69 0.64 0.69 0.66 0.51]\n",
            "Average recall across folds is 0.638095238095238\n",
            "Accuracy scores for each fold are: [0.75 0.75 0.76 0.74 0.74]\n",
            "Average accuracy across folds is 0.7493557422969188\n",
            "Precision scores for each fold are: [0.71 0.74 0.74 0.7  0.78]\n",
            "Average precision across folds is 0.7325380694162147\n"
          ]
        }
      ]
    },
    {
      "cell_type": "code",
      "source": [
        "labels = ['No Diabetes', 'Yes Diabetes']\n",
        "ConfusionMatrixDisplay.from_predictions(y_test, ylog2, display_labels=labels, cmap='Blues', normalize='true')\n"
      ],
      "metadata": {
        "colab": {
          "base_uri": "https://localhost:8080/",
          "height": 299
        },
        "id": "rUm3FuN9d3o8",
        "outputId": "1ba20fc5-6ad6-4557-d3f0-df415635933c"
      },
      "execution_count": null,
      "outputs": [
        {
          "output_type": "execute_result",
          "data": {
            "text/plain": [
              "<sklearn.metrics._plot.confusion_matrix.ConfusionMatrixDisplay at 0x7f7c346a60d0>"
            ]
          },
          "metadata": {},
          "execution_count": 183
        },
        {
          "output_type": "display_data",
          "data": {
            "text/plain": [
              "<Figure size 432x288 with 2 Axes>"
            ],
            "image/png": "[encoded data removed]"
          },
          "metadata": {}
        }
      ]
    },
    {
      "cell_type": "markdown",
      "source": [
        "We will now look at the KNN model and seek to minimize Type II errors by improving recall.  "
      ],
      "metadata": {
        "id": "4lZftMdqUftw"
      }
    },
    {
      "cell_type": "code",
      "source": [
        "krange = range(1, 50)\n",
        "train_recalls = []\n",
        "bestrecall = 0\n",
        "bestk = 0\n",
        "for k in krange:\n",
        "  #find accuracy for each k\n",
        "  knn_dummy = Pipeline(steps = [\n",
        "                                  (\"col_transformer\", col_transformer),\n",
        "                                  (\"model\", KNeighborsClassifier(n_neighbors = k))\n",
        "  ])\n",
        "  rec_scores = cross_val_score(knn_dummy, X_train, y_train, scoring='recall', cv=5)\n",
        "  train_recalls.append(np.mean(rec_scores))\n",
        "  #if recall for this k is better than previous accuracies, set bestk = k\n",
        "  if np.mean(rec_scores) > bestrecall:\n",
        "    bestrecall = np.mean(rec_scores)\n",
        "    bestk = k\n",
        "\n",
        "#plot rcalls over K\n",
        "plt.plot(krange, train_recalls, label='Test K Scores')\n",
        "plt.show()\n",
        "\n",
        "#print best k and best recall\n",
        "print(f'Best K value is {bestk} \\nwith {bestrecall} recall on the test set')"
      ],
      "metadata": {
        "id": "FehsKDopOohB",
        "outputId": "54fd7ce4-46c0-4680-8a14-50a42770562c",
        "colab": {
          "base_uri": "https://localhost:8080/",
          "height": 300
        }
      },
      "execution_count": null,
      "outputs": [
        {
          "output_type": "display_data",
          "data": {
            "text/plain": [
              "<Figure size 432x288 with 1 Axes>"
            ],
            "image/png": "[encoded data removed]"
          },
          "metadata": {}
        },
        {
          "output_type": "stream",
          "name": "stdout",
          "text": [
            "Best K value is 13 \n",
            "with 0.6834920634920636 recall on the test set\n"
          ]
        }
      ]
    },
    {
      "cell_type": "markdown",
      "source": [
        "From here we can deduce that the best k value is 9, leading to an average recall of 0.658.  Below are the classification metrics for the updated KNN model with a k value of 9:"
      ],
      "metadata": {
        "id": "-bes85uEc3AX"
      }
    },
    {
      "cell_type": "code",
      "source": [
        "knn_pipe_best = Pipeline(steps = [\n",
        "                                 (\"col_transformer\", col_transformer),\n",
        "                                 (\"model\", KNeighborsClassifier(n_neighbors = 9))\n",
        "])\n",
        "knn_pipe_best.fit(X_train, y_train)\n",
        "yknn2 = knn_pipe_best.predict(X_test)\n",
        "\n",
        "knn_recalls_2 = cross_val_score(knn_pipe_best, X_train, y_train, scoring = \"recall\", cv=5)\n",
        "knn_accuracies_2 = cross_val_score(knn_pipe_best, X_train, y_train, cv=5)\n",
        "knn_precisions_2 = cross_val_score(knn_pipe_best, X_train, y_train, scoring = \"precision\", cv=5)\n",
        "\n",
        "print(f'Recall scores for each fold are: {knn_recalls_2.round(2)}')\n",
        "print(f'Average recall across folds is {np.mean(knn_recalls_2)}')\n",
        "print(f'Accuracy scores for each fold are: {knn_accuracies_2.round(2)}')\n",
        "print(f'Average accuracy across folds is {np.mean(knn_accuracies_2)}')\n",
        "print(f'Precision scores for each fold are: {knn_precisions_2.round(2)}')\n",
        "print(f'Average precision across folds is {np.mean(knn_precisions_2)}')"
      ],
      "metadata": {
        "id": "pFBGl3c1QwhH",
        "outputId": "a1aca0f5-fc2e-4f53-c6d0-57db2210b406",
        "colab": {
          "base_uri": "https://localhost:8080/"
        }
      },
      "execution_count": null,
      "outputs": [
        {
          "output_type": "stream",
          "name": "stdout",
          "text": [
            "Recall scores for each fold are: [0.69 0.67 0.67 0.69 0.54]\n",
            "Average recall across folds is 0.6495238095238095\n",
            "Accuracy scores for each fold are: [0.78 0.74 0.69 0.73 0.68]\n",
            "Average accuracy across folds is 0.7233053221288517\n",
            "Precision scores for each fold are: [0.75 0.71 0.63 0.67 0.63]\n",
            "Average precision across folds is 0.6774922600619195\n"
          ]
        }
      ]
    },
    {
      "cell_type": "code",
      "source": [
        "labels = ['No Diabetes', 'Yes Diabetes']\n",
        "ConfusionMatrixDisplay.from_predictions(y_test, yknn2, display_labels=labels, cmap='Blues', normalize='true')\n"
      ],
      "metadata": {
        "colab": {
          "base_uri": "https://localhost:8080/",
          "height": 299
        },
        "id": "3V4c_mXjehHQ",
        "outputId": "44d3d2ae-b04f-4cec-caa6-000158a7613f"
      },
      "execution_count": null,
      "outputs": [
        {
          "output_type": "execute_result",
          "data": {
            "text/plain": [
              "<sklearn.metrics._plot.confusion_matrix.ConfusionMatrixDisplay at 0x7f7c3417cad0>"
            ]
          },
          "metadata": {},
          "execution_count": 186
        },
        {
          "output_type": "display_data",
          "data": {
            "text/plain": [
              "<Figure size 432x288 with 2 Axes>"
            ],
            "image/png": "[encoded data removed]"
          },
          "metadata": {}
        }
      ]
    },
    {
      "cell_type": "markdown",
      "source": [
        "Thus, we can see that from the hypertuning, both models experienced an improvement in their respective recall scores."
      ],
      "metadata": {
        "id": "gGXauDuNdTJK"
      }
    },
    {
      "cell_type": "markdown",
      "source": [
        "My final model recommendation is the hypertuned logistic regression model.  This is because between both hypertuned models, the type II error rate is the same on the respective cofusion matrices, so we cannot decide simply based on the type II error rate.  Type II errors in this case are the worst mistake because it is equivalent to telling a patient that they do no have diabetes when in fact they do.  This may result in serious harm that comes from not obtaining the proper treatment, and we want to avoid these errors the most.  Although the KNN hypertuned model has a better recall score, the logistic regression model is better in the other two scores of accuracy and precision. As a result, the hypertuned logistic regression model is best to use. "
      ],
      "metadata": {
        "id": "GIeKrQYfdX9B"
      }
    },
    {
      "cell_type": "markdown",
      "source": [
        "Some of my Sources Referenced Include: Learn Platform, Stack Overflow, Geeks for Geeks, Medium, and the following links:\n",
        "\n",
        "https://statisticsglobe.com/convert-float-integer-pandas-dataframe-column-python\n",
        "\n",
        "https://pandas.pydata.org/pandas-docs/stable/reference/api/pandas.DataFrame.astype.html\n",
        "\n",
        "https://duckduckgo.com/?q=what+is+diabetes+pedigree+function&t=brave&ia=web\n",
        "\n",
        "https://priyanka-ddit.medium.com/handle-unknown-categories-using-onehotencoder-181bdc0a163c\n",
        "\n",
        "https://pythonprinciples.com/blog/lists-of-strings-in-python/"
      ],
      "metadata": {
        "id": "k-shRpWwgkdS"
      }
    }
  ]
}