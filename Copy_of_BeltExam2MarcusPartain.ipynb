{
  "nbformat": 4,
  "nbformat_minor": 0,
  "metadata": {
    "colab": {
      "name": "Copy of BeltExam2MarcusPartain.ipynb",
      "provenance": [],
      "collapsed_sections": [],
      "authorship_tag": "ABX9TyMryOL1K1U+IhalCePx19is",
      "include_colab_link": true
    },
    "kernelspec": {
      "name": "python3",
      "display_name": "Python 3"
    },
    "language_info": {
      "name": "python"
    }
  },
  "cells": [
    {
      "cell_type": "markdown",
      "metadata": {
        "id": "view-in-github",
        "colab_type": "text"
      },
      "source": [
        "<a href=\"https://colab.research.google.com/github/mpartain1/sales-predictions/blob/main/Copy_of_BeltExam2MarcusPartain.ipynb\" target=\"_parent\"><img src=\"https://colab.research.google.com/assets/colab-badge.svg\" alt=\"Open In Colab\"/></a>"
      ]
    },
    {
      "cell_type": "code",
      "execution_count": null,
      "metadata": {
        "id": "Q5bWV3G5Fxhj"
      },
      "outputs": [],
      "source": [
        "import pandas as pd\n",
        "import matplotlib.pyplot as plt\n",
        "import seaborn as sns\n",
        "import numpy as np\n",
        "from sklearn.model_selection import train_test_split\n",
        "from sklearn.compose import make_column_selector\n",
        "from sklearn.preprocessing import OrdinalEncoder\n",
        "from sklearn.compose import make_column_transformer\n",
        "from sklearn.impute import SimpleImputer\n",
        "from sklearn.pipeline import make_pipeline\n",
        "from sklearn.preprocessing import StandardScaler, OneHotEncoder\n",
        "from sklearn.linear_model import LogisticRegression\n",
        "from sklearn.metrics import accuracy_score, precision_score, recall_score, classification_report, ConfusionMatrixDisplay\n",
        "from sklearn.neighbors import KNeighborsClassifier\n",
        "from sklearn.tree import DecisionTreeClassifier\n",
        "from sklearn import set_config\n",
        "from sklearn.metrics import accuracy_score, precision_score, recall_score, classification_report, ConfusionMatrixDisplay\n",
        "\n",
        "set_config(display='diagram')"
      ]
    },
    {
      "cell_type": "code",
      "source": [
        "df = pd.read_csv('/content/Belt2_A_drugtype_v2_final.csv')\n",
        "df.head()"
      ],
      "metadata": {
        "colab": {
          "base_uri": "https://localhost:8080/",
          "height": 206
        },
        "id": "2Xh0eP2iGKBF",
        "outputId": "1153e8f5-da19-4cc9-b1c7-d6c1e557abe8"
      },
      "execution_count": null,
      "outputs": [
        {
          "output_type": "execute_result",
          "data": {
            "text/plain": [
              "    Age Gender      BP Cholesterol Na_to_K   Drug\n",
              "0  59.0      M    High        HIGH  13.935  drugQ\n",
              "1  40.0      F  Normal        HIGH  10.103  drugZ\n",
              "2   NaN      M  Normal        HIGH   9.084  drugZ\n",
              "3  62.0      M  Normal        HIGH  16.594  drugZ\n",
              "4  55.0      F    High      NORMAL  10.977  drugQ"
            ],
            "text/html": [
              "\n",
              "  <div id=\"df-4929981e-2aea-4937-ac4a-3b71a0d08ff6\">\n",
              "    <div class=\"colab-df-container\">\n",
              "      <div>\n",
              "<style scoped>\n",
              "    .dataframe tbody tr th:only-of-type {\n",
              "        vertical-align: middle;\n",
              "    }\n",
              "\n",
              "    .dataframe tbody tr th {\n",
              "        vertical-align: top;\n",
              "    }\n",
              "\n",
              "    .dataframe thead th {\n",
              "        text-align: right;\n",
              "    }\n",
              "</style>\n",
              "<table border=\"1\" class=\"dataframe\">\n",
              "  <thead>\n",
              "    <tr style=\"text-align: right;\">\n",
              "      <th></th>\n",
              "      <th>Age</th>\n",
              "      <th>Gender</th>\n",
              "      <th>BP</th>\n",
              "      <th>Cholesterol</th>\n",
              "      <th>Na_to_K</th>\n",
              "      <th>Drug</th>\n",
              "    </tr>\n",
              "  </thead>\n",
              "  <tbody>\n",
              "    <tr>\n",
              "      <th>0</th>\n",
              "      <td>59.0</td>\n",
              "      <td>M</td>\n",
              "      <td>High</td>\n",
              "      <td>HIGH</td>\n",
              "      <td>13.935</td>\n",
              "      <td>drugQ</td>\n",
              "    </tr>\n",
              "    <tr>\n",
              "      <th>1</th>\n",
              "      <td>40.0</td>\n",
              "      <td>F</td>\n",
              "      <td>Normal</td>\n",
              "      <td>HIGH</td>\n",
              "      <td>10.103</td>\n",
              "      <td>drugZ</td>\n",
              "    </tr>\n",
              "    <tr>\n",
              "      <th>2</th>\n",
              "      <td>NaN</td>\n",
              "      <td>M</td>\n",
              "      <td>Normal</td>\n",
              "      <td>HIGH</td>\n",
              "      <td>9.084</td>\n",
              "      <td>drugZ</td>\n",
              "    </tr>\n",
              "    <tr>\n",
              "      <th>3</th>\n",
              "      <td>62.0</td>\n",
              "      <td>M</td>\n",
              "      <td>Normal</td>\n",
              "      <td>HIGH</td>\n",
              "      <td>16.594</td>\n",
              "      <td>drugZ</td>\n",
              "    </tr>\n",
              "    <tr>\n",
              "      <th>4</th>\n",
              "      <td>55.0</td>\n",
              "      <td>F</td>\n",
              "      <td>High</td>\n",
              "      <td>NORMAL</td>\n",
              "      <td>10.977</td>\n",
              "      <td>drugQ</td>\n",
              "    </tr>\n",
              "  </tbody>\n",
              "</table>\n",
              "</div>\n",
              "      <button class=\"colab-df-convert\" onclick=\"convertToInteractive('df-4929981e-2aea-4937-ac4a-3b71a0d08ff6')\"\n",
              "              title=\"Convert this dataframe to an interactive table.\"\n",
              "              style=\"display:none;\">\n",
              "        \n",
              "  <svg xmlns=\"http://www.w3.org/2000/svg\" height=\"24px\"viewBox=\"0 0 24 24\"\n",
              "       width=\"24px\">\n",
              "    <path d=\"M0 0h24v24H0V0z\" fill=\"none\"/>\n",
              "    <path d=\"M18.56 5.44l.94 2.06.94-2.06 2.06-.94-2.06-.94-.94-2.06-.94 2.06-2.06.94zm-11 1L8.5 8.5l.94-2.06 2.06-.94-2.06-.94L8.5 2.5l-.94 2.06-2.06.94zm10 10l.94 2.06.94-2.06 2.06-.94-2.06-.94-.94-2.06-.94 2.06-2.06.94z\"/><path d=\"M17.41 7.96l-1.37-1.37c-.4-.4-.92-.59-1.43-.59-.52 0-1.04.2-1.43.59L10.3 9.45l-7.72 7.72c-.78.78-.78 2.05 0 2.83L4 21.41c.39.39.9.59 1.41.59.51 0 1.02-.2 1.41-.59l7.78-7.78 2.81-2.81c.8-.78.8-2.07 0-2.86zM5.41 20L4 18.59l7.72-7.72 1.47 1.35L5.41 20z\"/>\n",
              "  </svg>\n",
              "      </button>\n",
              "      \n",
              "  <style>\n",
              "    .colab-df-container {\n",
              "      display:flex;\n",
              "      flex-wrap:wrap;\n",
              "      gap: 12px;\n",
              "    }\n",
              "\n",
              "    .colab-df-convert {\n",
              "      background-color: #E8F0FE;\n",
              "      border: none;\n",
              "      border-radius: 50%;\n",
              "      cursor: pointer;\n",
              "      display: none;\n",
              "      fill: #1967D2;\n",
              "      height: 32px;\n",
              "      padding: 0 0 0 0;\n",
              "      width: 32px;\n",
              "    }\n",
              "\n",
              "    .colab-df-convert:hover {\n",
              "      background-color: #E2EBFA;\n",
              "      box-shadow: 0px 1px 2px rgba(60, 64, 67, 0.3), 0px 1px 3px 1px rgba(60, 64, 67, 0.15);\n",
              "      fill: #174EA6;\n",
              "    }\n",
              "\n",
              "    [theme=dark] .colab-df-convert {\n",
              "      background-color: #3B4455;\n",
              "      fill: #D2E3FC;\n",
              "    }\n",
              "\n",
              "    [theme=dark] .colab-df-convert:hover {\n",
              "      background-color: #434B5C;\n",
              "      box-shadow: 0px 1px 3px 1px rgba(0, 0, 0, 0.15);\n",
              "      filter: drop-shadow(0px 1px 2px rgba(0, 0, 0, 0.3));\n",
              "      fill: #FFFFFF;\n",
              "    }\n",
              "  </style>\n",
              "\n",
              "      <script>\n",
              "        const buttonEl =\n",
              "          document.querySelector('#df-4929981e-2aea-4937-ac4a-3b71a0d08ff6 button.colab-df-convert');\n",
              "        buttonEl.style.display =\n",
              "          google.colab.kernel.accessAllowed ? 'block' : 'none';\n",
              "\n",
              "        async function convertToInteractive(key) {\n",
              "          const element = document.querySelector('#df-4929981e-2aea-4937-ac4a-3b71a0d08ff6');\n",
              "          const dataTable =\n",
              "            await google.colab.kernel.invokeFunction('convertToInteractive',\n",
              "                                                     [key], {});\n",
              "          if (!dataTable) return;\n",
              "\n",
              "          const docLinkHtml = 'Like what you see? Visit the ' +\n",
              "            '<a target=\"_blank\" href=https://colab.research.google.com/notebooks/data_table.ipynb>data table notebook</a>'\n",
              "            + ' to learn more about interactive tables.';\n",
              "          element.innerHTML = '';\n",
              "          dataTable['output_type'] = 'display_data';\n",
              "          await google.colab.output.renderOutput(dataTable, element);\n",
              "          const docLink = document.createElement('div');\n",
              "          docLink.innerHTML = docLinkHtml;\n",
              "          element.appendChild(docLink);\n",
              "        }\n",
              "      </script>\n",
              "    </div>\n",
              "  </div>\n",
              "  "
            ]
          },
          "metadata": {},
          "execution_count": 5
        }
      ]
    },
    {
      "cell_type": "code",
      "source": [
        "df['Cholesterol'].value_counts()\n",
        "df['Cholesterol'] = df['Cholesterol'].replace('high', 'HIGH')\n",
        "df['Cholesterol'] = df['Cholesterol'].replace('norm', 'NORMAL')\n",
        "df['Cholesterol'] = df['Cholesterol'].replace('NORM', 'NORMAL')\n",
        "df['Cholesterol'].value_counts()"
      ],
      "metadata": {
        "colab": {
          "base_uri": "https://localhost:8080/"
        },
        "id": "1EVleGFSHx5O",
        "outputId": "fb8119d3-2297-4ba7-e139-ffda78d0bbc4"
      },
      "execution_count": null,
      "outputs": [
        {
          "output_type": "execute_result",
          "data": {
            "text/plain": [
              "HIGH      164\n",
              "NORMAL    132\n",
              "Name: Cholesterol, dtype: int64"
            ]
          },
          "metadata": {},
          "execution_count": 6
        }
      ]
    },
    {
      "cell_type": "code",
      "source": [
        "df['Gender'].value_counts()\n",
        "df['Gender'] = df['Gender'].replace('male', 'M')\n",
        "df['Gender'] = df['Gender'].replace('Male', 'M')\n",
        "df['Gender'] = df['Gender'].replace('female', 'F')\n",
        "df['Gender'] = df['Gender'].replace('Female', 'F')\n",
        "df['Gender'] = df['Gender'].replace('femal', 'F')\n",
        "df['Gender'] = df['Gender'].replace('Femal', 'F')\n",
        "df['Gender'].value_counts()"
      ],
      "metadata": {
        "colab": {
          "base_uri": "https://localhost:8080/"
        },
        "id": "Vi_7NPZaIAMC",
        "outputId": "3f3adde4-bedd-4c70-9221-e10c9b618b40"
      },
      "execution_count": null,
      "outputs": [
        {
          "output_type": "execute_result",
          "data": {
            "text/plain": [
              "M    154\n",
              "F    142\n",
              "Name: Gender, dtype: int64"
            ]
          },
          "metadata": {},
          "execution_count": 7
        }
      ]
    },
    {
      "cell_type": "code",
      "source": [
        "df['BP'].value_counts()"
      ],
      "metadata": {
        "colab": {
          "base_uri": "https://localhost:8080/"
        },
        "id": "KnVEr1ycIE_-",
        "outputId": "fb429557-bdd8-41f8-9142-b49725917ca5"
      },
      "execution_count": null,
      "outputs": [
        {
          "output_type": "execute_result",
          "data": {
            "text/plain": [
              "High      142\n",
              "Normal     46\n",
              "Low        33\n",
              "Name: BP, dtype: int64"
            ]
          },
          "metadata": {},
          "execution_count": 8
        }
      ]
    },
    {
      "cell_type": "code",
      "source": [
        "df['Drug'].value_counts()"
      ],
      "metadata": {
        "colab": {
          "base_uri": "https://localhost:8080/"
        },
        "id": "q2BjnZfJIGQE",
        "outputId": "83b05df5-0f48-4ee5-cbea-0c805b5f6c12"
      },
      "execution_count": null,
      "outputs": [
        {
          "output_type": "execute_result",
          "data": {
            "text/plain": [
              "drugQ    148\n",
              "drugZ    148\n",
              "Name: Drug, dtype: int64"
            ]
          },
          "metadata": {},
          "execution_count": 9
        }
      ]
    },
    {
      "cell_type": "code",
      "source": [
        "#Used Geeks for Geeks website and Stack Overflow on this part\n",
        "df.drop(df.index[(df.Age > 110)], inplace = True)\n",
        "df.drop(df.index[(df.Age < 0)], inplace = True)"
      ],
      "metadata": {
        "id": "-J9646HfI8hC"
      },
      "execution_count": null,
      "outputs": []
    },
    {
      "cell_type": "code",
      "source": [
        "df['Na_to_K'] = pd.to_numeric(df['Na_to_K'], errors='coerce')\n",
        "df.info()"
      ],
      "metadata": {
        "colab": {
          "base_uri": "https://localhost:8080/"
        },
        "id": "EEY07KX8Qg1Y",
        "outputId": "c417933d-4f17-4300-a448-4e654c58bc32"
      },
      "execution_count": null,
      "outputs": [
        {
          "output_type": "stream",
          "name": "stdout",
          "text": [
            "<class 'pandas.core.frame.DataFrame'>\n",
            "Int64Index: 295 entries, 0 to 295\n",
            "Data columns (total 6 columns):\n",
            " #   Column       Non-Null Count  Dtype  \n",
            "---  ------       --------------  -----  \n",
            " 0   Age          236 non-null    float64\n",
            " 1   Gender       295 non-null    object \n",
            " 2   BP           220 non-null    object \n",
            " 3   Cholesterol  295 non-null    object \n",
            " 4   Na_to_K      294 non-null    float64\n",
            " 5   Drug         295 non-null    object \n",
            "dtypes: float64(2), object(4)\n",
            "memory usage: 24.2+ KB\n"
          ]
        }
      ]
    },
    {
      "cell_type": "code",
      "source": [
        "df['Na_to_K'].plot(kind='box', title='Na_to_K Distribution')\n",
        "plt.show()\n",
        "#There are some outliers, but for the most part the data isn't too skewed."
      ],
      "metadata": {
        "colab": {
          "base_uri": "https://localhost:8080/",
          "height": 282
        },
        "id": "TOqSGiivS3fc",
        "outputId": "7209adae-860f-450f-a4f0-b941719381f8"
      },
      "execution_count": null,
      "outputs": [
        {
          "output_type": "display_data",
          "data": {
            "text/plain": [
              "<Figure size 432x288 with 1 Axes>"
            ],
            "image/png": "[encoded data removed]"
          },
          "metadata": {
            "needs_background": "light"
          }
        }
      ]
    },
    {
      "cell_type": "code",
      "source": [
        "df['Age'].plot(kind='box', title='Age Distribution')\n",
        "plt.show()\n",
        "#This data is not too skewed either.  As a result, we will impute missing values using\n",
        "#the mean rather than the median since in unskewed distributions, the mean is more effective\n",
        "#at reflecting the true center of the data."
      ],
      "metadata": {
        "colab": {
          "base_uri": "https://localhost:8080/",
          "height": 281
        },
        "id": "aZpCN0nGcWMU",
        "outputId": "a7513f20-11ba-4b41-8b9d-f43d4b05459f"
      },
      "execution_count": null,
      "outputs": [
        {
          "output_type": "display_data",
          "data": {
            "text/plain": [
              "<Figure size 432x288 with 1 Axes>"
            ],
            "image/png": "[encoded data removed]"
          },
          "metadata": {
            "needs_background": "light"
          }
        }
      ]
    },
    {
      "cell_type": "code",
      "source": [
        "y = df['Drug']\n",
        "X = df.drop(columns=['Drug'])\n",
        "\n",
        "X_train, X_test, y_train, y_test = train_test_split(X, y, random_state=42)\n",
        "X.isna().any()"
      ],
      "metadata": {
        "colab": {
          "base_uri": "https://localhost:8080/"
        },
        "id": "iaaS_xAbGhOP",
        "outputId": "19b61adf-a334-4644-d613-bc29ce233bfb"
      },
      "execution_count": null,
      "outputs": [
        {
          "output_type": "execute_result",
          "data": {
            "text/plain": [
              "Age             True\n",
              "Gender         False\n",
              "BP              True\n",
              "Cholesterol    False\n",
              "Na_to_K         True\n",
              "dtype: bool"
            ]
          },
          "metadata": {},
          "execution_count": 14
        }
      ]
    },
    {
      "cell_type": "code",
      "source": [
        "df.plot(x='Age', y='Na_to_K', style='.', title='Na_to_K Ratio Based on Age')\n",
        "#Here we see if the Sodium to Potassium Ratio varies based on age.  From the scatterplot,\n",
        "#it appears that this ratio remains around the same as age increases."
      ],
      "metadata": {
        "colab": {
          "base_uri": "https://localhost:8080/",
          "height": 312
        },
        "id": "2boLCubtX3a_",
        "outputId": "e656e85f-24ae-48c4-f898-7de5316b4e22"
      },
      "execution_count": null,
      "outputs": [
        {
          "output_type": "execute_result",
          "data": {
            "text/plain": [
              "<matplotlib.axes._subplots.AxesSubplot at 0x7f971c484210>"
            ]
          },
          "metadata": {},
          "execution_count": 15
        },
        {
          "output_type": "display_data",
          "data": {
            "text/plain": [
              "<Figure size 432x288 with 1 Axes>"
            ],
            "image/png": "[encoded data removed]"
          },
          "metadata": {
            "needs_background": "light"
          }
        }
      ]
    },
    {
      "cell_type": "code",
      "source": [
        "num_selector = make_column_selector(dtype_include='number')\n",
        "cat_selector = make_column_selector(dtype_include='object')\n",
        "mean_imputer = SimpleImputer(strategy='mean')\n",
        "freq_imputer = SimpleImputer(strategy='most_frequent')\n",
        "med_imputer = SimpleImputer(strategy = 'median')\n",
        "one_hot_encoder = OneHotEncoder(sparse = True)\n",
        "logreg = LogisticRegression()\n",
        "scaler = StandardScaler()\n",
        "numeric_pipe = make_pipeline(mean_imputer, scaler)\n",
        "categorical_pipe = make_pipeline(freq_imputer, ordinal_encoder)"
      ],
      "metadata": {
        "id": "o4sao_A7HQOK"
      },
      "execution_count": null,
      "outputs": []
    },
    {
      "cell_type": "code",
      "source": [
        "num_tuple = (numeric_pipe, num_selector)\n",
        "cat_tuple = (categorical_pipe, cat_selector)\n",
        "preprocessor = make_column_transformer(num_tuple, cat_tuple)\n",
        "preprocessor\n",
        "#I used SimpleImputer to avoid data leakage, and imputed mean values because based on the \n",
        "#boxplots above (visualization #1), we see that the data is unskewed with not too many outliers.\n",
        "#In this type of distribution, the mean is more representative of the central value \n",
        "#rather than the median.  I used a frequent_imputer for the BP column since a large majority\n",
        "#of the values in this column were 'High'.  I concluded therefore that it was safe to impute\n",
        "#missing values in the BP column as 'High' as well.  I used an ordinal encoder for the BP\n",
        "#column because the categorical values were ordered from 'Low', 'Normal', 'High'.  Similarly,\n",
        "#for the Cholesterol column, I used ordinal encoder with HIGH and NORMAL, and filled in\n",
        "#missing values with the most frequent because HIGH occurred more than NORMAL, a majority\n",
        "#of the time.  "
      ],
      "metadata": {
        "colab": {
          "base_uri": "https://localhost:8080/",
          "height": 153
        },
        "id": "WZKGt0RAYUaV",
        "outputId": "011cde25-033c-4256-e3b4-4306b0f86cc8"
      },
      "execution_count": null,
      "outputs": [
        {
          "output_type": "execute_result",
          "data": {
            "text/plain": [
              "ColumnTransformer(transformers=[('pipeline-1',\n",
              "                                 Pipeline(steps=[('simpleimputer',\n",
              "                                                  SimpleImputer()),\n",
              "                                                 ('standardscaler',\n",
              "                                                  StandardScaler())]),\n",
              "                                 <sklearn.compose._column_transformer.make_column_selector object at 0x7f971c40fe50>),\n",
              "                                ('pipeline-2',\n",
              "                                 Pipeline(steps=[('simpleimputer',\n",
              "                                                  SimpleImputer(strategy='most_frequent')),\n",
              "                                                 ('ordinalencoder',\n",
              "                                                  OrdinalEncoder())]),\n",
              "                                 <sklearn.compose._column_transformer.make_column_selector object at 0x7f971c40ffd0>)])"
            ],
            "text/html": [
              "<style>#sk-b6e15660-5b11-4946-93f8-e3a350618fa8 {color: black;background-color: white;}#sk-b6e15660-5b11-4946-93f8-e3a350618fa8 pre{padding: 0;}#sk-b6e15660-5b11-4946-93f8-e3a350618fa8 div.sk-toggleable {background-color: white;}#sk-b6e15660-5b11-4946-93f8-e3a350618fa8 label.sk-toggleable__label {cursor: pointer;display: block;width: 100%;margin-bottom: 0;padding: 0.3em;box-sizing: border-box;text-align: center;}#sk-b6e15660-5b11-4946-93f8-e3a350618fa8 label.sk-toggleable__label-arrow:before {content: \"▸\";float: left;margin-right: 0.25em;color: #696969;}#sk-b6e15660-5b11-4946-93f8-e3a350618fa8 label.sk-toggleable__label-arrow:hover:before {color: black;}#sk-b6e15660-5b11-4946-93f8-e3a350618fa8 div.sk-estimator:hover label.sk-toggleable__label-arrow:before {color: black;}#sk-b6e15660-5b11-4946-93f8-e3a350618fa8 div.sk-toggleable__content {max-height: 0;max-width: 0;overflow: hidden;text-align: left;background-color: #f0f8ff;}#sk-b6e15660-5b11-4946-93f8-e3a350618fa8 div.sk-toggleable__content pre {margin: 0.2em;color: black;border-radius: 0.25em;background-color: #f0f8ff;}#sk-b6e15660-5b11-4946-93f8-e3a350618fa8 input.sk-toggleable__control:checked~div.sk-toggleable__content {max-height: 200px;max-width: 100%;overflow: auto;}#sk-b6e15660-5b11-4946-93f8-e3a350618fa8 input.sk-toggleable__control:checked~label.sk-toggleable__label-arrow:before {content: \"▾\";}#sk-b6e15660-5b11-4946-93f8-e3a350618fa8 div.sk-estimator input.sk-toggleable__control:checked~label.sk-toggleable__label {background-color: #d4ebff;}#sk-b6e15660-5b11-4946-93f8-e3a350618fa8 div.sk-label input.sk-toggleable__control:checked~label.sk-toggleable__label {background-color: #d4ebff;}#sk-b6e15660-5b11-4946-93f8-e3a350618fa8 input.sk-hidden--visually {border: 0;clip: rect(1px 1px 1px 1px);clip: rect(1px, 1px, 1px, 1px);height: 1px;margin: -1px;overflow: hidden;padding: 0;position: absolute;width: 1px;}#sk-b6e15660-5b11-4946-93f8-e3a350618fa8 div.sk-estimator {font-family: monospace;background-color: #f0f8ff;border: 1px dotted black;border-radius: 0.25em;box-sizing: border-box;margin-bottom: 0.5em;}#sk-b6e15660-5b11-4946-93f8-e3a350618fa8 div.sk-estimator:hover {background-color: #d4ebff;}#sk-b6e15660-5b11-4946-93f8-e3a350618fa8 div.sk-parallel-item::after {content: \"\";width: 100%;border-bottom: 1px solid gray;flex-grow: 1;}#sk-b6e15660-5b11-4946-93f8-e3a350618fa8 div.sk-label:hover label.sk-toggleable__label {background-color: #d4ebff;}#sk-b6e15660-5b11-4946-93f8-e3a350618fa8 div.sk-serial::before {content: \"\";position: absolute;border-left: 1px solid gray;box-sizing: border-box;top: 2em;bottom: 0;left: 50%;}#sk-b6e15660-5b11-4946-93f8-e3a350618fa8 div.sk-serial {display: flex;flex-direction: column;align-items: center;background-color: white;padding-right: 0.2em;padding-left: 0.2em;}#sk-b6e15660-5b11-4946-93f8-e3a350618fa8 div.sk-item {z-index: 1;}#sk-b6e15660-5b11-4946-93f8-e3a350618fa8 div.sk-parallel {display: flex;align-items: stretch;justify-content: center;background-color: white;}#sk-b6e15660-5b11-4946-93f8-e3a350618fa8 div.sk-parallel::before {content: \"\";position: absolute;border-left: 1px solid gray;box-sizing: border-box;top: 2em;bottom: 0;left: 50%;}#sk-b6e15660-5b11-4946-93f8-e3a350618fa8 div.sk-parallel-item {display: flex;flex-direction: column;position: relative;background-color: white;}#sk-b6e15660-5b11-4946-93f8-e3a350618fa8 div.sk-parallel-item:first-child::after {align-self: flex-end;width: 50%;}#sk-b6e15660-5b11-4946-93f8-e3a350618fa8 div.sk-parallel-item:last-child::after {align-self: flex-start;width: 50%;}#sk-b6e15660-5b11-4946-93f8-e3a350618fa8 div.sk-parallel-item:only-child::after {width: 0;}#sk-b6e15660-5b11-4946-93f8-e3a350618fa8 div.sk-dashed-wrapped {border: 1px dashed gray;margin: 0 0.4em 0.5em 0.4em;box-sizing: border-box;padding-bottom: 0.4em;background-color: white;position: relative;}#sk-b6e15660-5b11-4946-93f8-e3a350618fa8 div.sk-label label {font-family: monospace;font-weight: bold;background-color: white;display: inline-block;line-height: 1.2em;}#sk-b6e15660-5b11-4946-93f8-e3a350618fa8 div.sk-label-container {position: relative;z-index: 2;text-align: center;}#sk-b6e15660-5b11-4946-93f8-e3a350618fa8 div.sk-container {/* jupyter's `normalize.less` sets `[hidden] { display: none; }` but bootstrap.min.css set `[hidden] { display: none !important; }` so we also need the `!important` here to be able to override the default hidden behavior on the sphinx rendered scikit-learn.org. See: https://github.com/scikit-learn/scikit-learn/issues/21755 */display: inline-block !important;position: relative;}#sk-b6e15660-5b11-4946-93f8-e3a350618fa8 div.sk-text-repr-fallback {display: none;}</style><div id=\"sk-b6e15660-5b11-4946-93f8-e3a350618fa8\" class=\"sk-top-container\"><div class=\"sk-text-repr-fallback\"><pre>ColumnTransformer(transformers=[(&#x27;pipeline-1&#x27;,\n",
              "                                 Pipeline(steps=[(&#x27;simpleimputer&#x27;,\n",
              "                                                  SimpleImputer()),\n",
              "                                                 (&#x27;standardscaler&#x27;,\n",
              "                                                  StandardScaler())]),\n",
              "                                 &lt;sklearn.compose._column_transformer.make_column_selector object at 0x7f971c40fe50&gt;),\n",
              "                                (&#x27;pipeline-2&#x27;,\n",
              "                                 Pipeline(steps=[(&#x27;simpleimputer&#x27;,\n",
              "                                                  SimpleImputer(strategy=&#x27;most_frequent&#x27;)),\n",
              "                                                 (&#x27;ordinalencoder&#x27;,\n",
              "                                                  OrdinalEncoder())]),\n",
              "                                 &lt;sklearn.compose._column_transformer.make_column_selector object at 0x7f971c40ffd0&gt;)])</pre><b>Please rerun this cell to show the HTML repr or trust the notebook.</b></div><div class=\"sk-container\" hidden><div class=\"sk-item sk-dashed-wrapped\"><div class=\"sk-label-container\"><div class=\"sk-label sk-toggleable\"><input class=\"sk-toggleable__control sk-hidden--visually\" id=\"1f815973-4abf-4761-8ea4-944446183480\" type=\"checkbox\" ><label for=\"1f815973-4abf-4761-8ea4-944446183480\" class=\"sk-toggleable__label sk-toggleable__label-arrow\">ColumnTransformer</label><div class=\"sk-toggleable__content\"><pre>ColumnTransformer(transformers=[(&#x27;pipeline-1&#x27;,\n",
              "                                 Pipeline(steps=[(&#x27;simpleimputer&#x27;,\n",
              "                                                  SimpleImputer()),\n",
              "                                                 (&#x27;standardscaler&#x27;,\n",
              "                                                  StandardScaler())]),\n",
              "                                 &lt;sklearn.compose._column_transformer.make_column_selector object at 0x7f971c40fe50&gt;),\n",
              "                                (&#x27;pipeline-2&#x27;,\n",
              "                                 Pipeline(steps=[(&#x27;simpleimputer&#x27;,\n",
              "                                                  SimpleImputer(strategy=&#x27;most_frequent&#x27;)),\n",
              "                                                 (&#x27;ordinalencoder&#x27;,\n",
              "                                                  OrdinalEncoder())]),\n",
              "                                 &lt;sklearn.compose._column_transformer.make_column_selector object at 0x7f971c40ffd0&gt;)])</pre></div></div></div><div class=\"sk-parallel\"><div class=\"sk-parallel-item\"><div class=\"sk-item\"><div class=\"sk-label-container\"><div class=\"sk-label sk-toggleable\"><input class=\"sk-toggleable__control sk-hidden--visually\" id=\"796140b9-037d-4815-a801-cc0c37879b78\" type=\"checkbox\" ><label for=\"796140b9-037d-4815-a801-cc0c37879b78\" class=\"sk-toggleable__label sk-toggleable__label-arrow\">pipeline-1</label><div class=\"sk-toggleable__content\"><pre>&lt;sklearn.compose._column_transformer.make_column_selector object at 0x7f971c40fe50&gt;</pre></div></div></div><div class=\"sk-serial\"><div class=\"sk-item\"><div class=\"sk-serial\"><div class=\"sk-item\"><div class=\"sk-estimator sk-toggleable\"><input class=\"sk-toggleable__control sk-hidden--visually\" id=\"53348476-a9b8-4ec7-b6bc-e2d1c73fe2e1\" type=\"checkbox\" ><label for=\"53348476-a9b8-4ec7-b6bc-e2d1c73fe2e1\" class=\"sk-toggleable__label sk-toggleable__label-arrow\">SimpleImputer</label><div class=\"sk-toggleable__content\"><pre>SimpleImputer()</pre></div></div></div><div class=\"sk-item\"><div class=\"sk-estimator sk-toggleable\"><input class=\"sk-toggleable__control sk-hidden--visually\" id=\"3236ede6-5368-4835-9e1a-ba4c8224c502\" type=\"checkbox\" ><label for=\"3236ede6-5368-4835-9e1a-ba4c8224c502\" class=\"sk-toggleable__label sk-toggleable__label-arrow\">StandardScaler</label><div class=\"sk-toggleable__content\"><pre>StandardScaler()</pre></div></div></div></div></div></div></div></div><div class=\"sk-parallel-item\"><div class=\"sk-item\"><div class=\"sk-label-container\"><div class=\"sk-label sk-toggleable\"><input class=\"sk-toggleable__control sk-hidden--visually\" id=\"d3cfb784-8a71-46ca-b463-59d266b14aee\" type=\"checkbox\" ><label for=\"d3cfb784-8a71-46ca-b463-59d266b14aee\" class=\"sk-toggleable__label sk-toggleable__label-arrow\">pipeline-2</label><div class=\"sk-toggleable__content\"><pre>&lt;sklearn.compose._column_transformer.make_column_selector object at 0x7f971c40ffd0&gt;</pre></div></div></div><div class=\"sk-serial\"><div class=\"sk-item\"><div class=\"sk-serial\"><div class=\"sk-item\"><div class=\"sk-estimator sk-toggleable\"><input class=\"sk-toggleable__control sk-hidden--visually\" id=\"5bec9fb7-8651-4496-b439-d6e6f6ba65ef\" type=\"checkbox\" ><label for=\"5bec9fb7-8651-4496-b439-d6e6f6ba65ef\" class=\"sk-toggleable__label sk-toggleable__label-arrow\">SimpleImputer</label><div class=\"sk-toggleable__content\"><pre>SimpleImputer(strategy=&#x27;most_frequent&#x27;)</pre></div></div></div><div class=\"sk-item\"><div class=\"sk-estimator sk-toggleable\"><input class=\"sk-toggleable__control sk-hidden--visually\" id=\"0298f1e7-5b5a-4735-8abc-504921ce2bf4\" type=\"checkbox\" ><label for=\"0298f1e7-5b5a-4735-8abc-504921ce2bf4\" class=\"sk-toggleable__label sk-toggleable__label-arrow\">OrdinalEncoder</label><div class=\"sk-toggleable__content\"><pre>OrdinalEncoder()</pre></div></div></div></div></div></div></div></div></div></div></div></div>"
            ]
          },
          "metadata": {},
          "execution_count": 17
        }
      ]
    },
    {
      "cell_type": "code",
      "source": [
        "preprocessor.fit(X_train)\n",
        "X_train_processed = preprocessor.transform(X_train)\n",
        "X_test_processed = preprocessor.transform(X_test)\n"
      ],
      "metadata": {
        "id": "JojOcLhjZtz2"
      },
      "execution_count": null,
      "outputs": []
    },
    {
      "cell_type": "code",
      "source": [
        "logreg = LogisticRegression()\n",
        "logreg.fit(X_train_processed, y_train)\n",
        "ylog1 = logreg.predict(X_test_processed)"
      ],
      "metadata": {
        "id": "FgG2eRJmDEf7"
      },
      "execution_count": null,
      "outputs": []
    },
    {
      "cell_type": "code",
      "source": [
        "knn = KNeighborsClassifier(n_neighbors=2)\n",
        "knn.fit(X_train_processed, y_train)\n",
        "yknn1 = knn.predict(X_test_processed)"
      ],
      "metadata": {
        "id": "lEY38zojFEIw"
      },
      "execution_count": null,
      "outputs": []
    },
    {
      "cell_type": "code",
      "source": [
        "# create a list of c values and empty lists for scores\n",
        "c_values = [0.0001, 0.001, 0.01, 0.1, 1, 10, 100, 1000]\n",
        "train_scores = []\n",
        "test_scores = []\n",
        "#iterative over the c values\n",
        "for c in c_values:\n",
        " \n",
        "  # instantiate a model with each value of c and fit it on the data\n",
        "  log_reg = LogisticRegression(C=c, max_iter=1000, solver='liblinear', penalty='l1')\n",
        "  log_reg_pipe = make_pipeline(scaler, log_reg)\n",
        "  log_reg_pipe.fit(X_train_processed, y_train)\n",
        " \n",
        "  # add the training and testing scores to our scores lists\n",
        "  train_scores.append(log_reg_pipe.score(X_train_processed, y_train))\n",
        "  test_scores.append(log_reg_pipe.score(X_test_processed, y_test))\n",
        " \n",
        "#plot the change in accuracy as we change the value of C\n",
        "fig, ax = plt.subplots(1,1)\n",
        "ax.plot(c_values, train_scores, label='Training Accuracy')\n",
        "ax.plot(c_values, test_scores, label='Testing Accuracy')\n",
        "ax.set_xticks(c_values)\n",
        "ax.set_title('Change in accuracy over C values for l1 regularization')\n",
        "ax.legend()\n",
        " \n",
        "#set the x axis to a logarithmic scale to show the values of C in even intervals\n",
        "ax.set_xscale('log')\n",
        "# print a dictionary of values of C and accuracy scores\n",
        "{c:score for c, score in zip(c_values, test_scores)}"
      ],
      "metadata": {
        "id": "gqHEXH_ALVR7",
        "outputId": "e4df63a2-ec0b-46a6-dc96-9bf468002a6b",
        "colab": {
          "base_uri": "https://localhost:8080/",
          "height": 424
        }
      },
      "execution_count": null,
      "outputs": [
        {
          "output_type": "execute_result",
          "data": {
            "text/plain": [
              "{0.0001: 0.4594594594594595,\n",
              " 0.001: 0.4594594594594595,\n",
              " 0.01: 0.4594594594594595,\n",
              " 0.1: 0.6756756756756757,\n",
              " 1: 0.7972972972972973,\n",
              " 10: 0.7972972972972973,\n",
              " 100: 0.7972972972972973,\n",
              " 1000: 0.7972972972972973}"
            ]
          },
          "metadata": {},
          "execution_count": 21
        },
        {
          "output_type": "display_data",
          "data": {
            "text/plain": [
              "<Figure size 432x288 with 1 Axes>"
            ],
            "image/png": "[encoded data removed]"
          },
          "metadata": {
            "needs_background": "light"
          }
        }
      ]
    },
    {
      "cell_type": "code",
      "source": [
        "log_reg_best = LogisticRegression(C=0.1, max_iter=1000, solver='liblinear', penalty='l1')\n",
        "log_reg_best_pipe = make_pipeline(scaler, log_reg_best)\n",
        "log_reg_best_pipe.fit(X_train_processed, y_train)\n",
        "log_df1 = log_reg_best_pipe.predict(X_test_processed)"
      ],
      "metadata": {
        "id": "U0sJh1bsLqph"
      },
      "execution_count": null,
      "outputs": []
    },
    {
      "cell_type": "code",
      "source": [
        "krange = range(1, 50)\n",
        "test_accuracies = []\n",
        "bestacc = 0\n",
        "bestk = 0\n",
        "for k in krange:\n",
        "  #find accuracy for each k\n",
        "  pipe = make_pipeline(StandardScaler(), KNeighborsClassifier(n_neighbors=k))\n",
        "  pipe.fit(X_train_processed, y_train)\n",
        "  acc = accuracy_score(y_test, pipe.predict(X_test_processed))\n",
        "  #if accuracy for this k is better than previous accuracies, set bestk = k\n",
        "  if acc > bestacc:\n",
        "    bestacc = acc\n",
        "    bestk = k\n",
        "\n",
        "  test_accuracies.append(acc)\n",
        "\n",
        "#plot accuracies over K\n",
        "plt.plot(krange, test_accuracies, label='Test K Scores')\n",
        "plt.show()\n",
        "\n",
        "#print best k and best accuracy\n",
        "print(f'Best K value is {bestk} \\nwith {bestacc} accuracy on the test set')"
      ],
      "metadata": {
        "id": "35IJ_GN7L5FO",
        "outputId": "f1a581fe-49f7-4a96-8d15-ef5ad52e861a",
        "colab": {
          "base_uri": "https://localhost:8080/",
          "height": 300
        }
      },
      "execution_count": null,
      "outputs": [
        {
          "output_type": "display_data",
          "data": {
            "text/plain": [
              "<Figure size 432x288 with 1 Axes>"
            ],
            "image/png": "[encoded data removed]"
          },
          "metadata": {
            "needs_background": "light"
          }
        },
        {
          "output_type": "stream",
          "name": "stdout",
          "text": [
            "Best K value is 1 \n",
            "with 0.7297297297297297 accuracy on the test set\n"
          ]
        }
      ]
    },
    {
      "cell_type": "code",
      "source": [
        "knn = KNeighborsClassifier(n_neighbors=1)\n",
        "knn.fit(X_train_processed, y_train)\n",
        "yknn2 = knn.predict(X_test_processed)"
      ],
      "metadata": {
        "id": "61RtCRUbMGK5"
      },
      "execution_count": null,
      "outputs": []
    },
    {
      "cell_type": "code",
      "source": [
        "print(f\"Untuned Logistic Accuracy: {accuracy_score(y_test, ylog1)}\")\n",
        "print(f\"Tuned Logistic Accuracy: {accuracy_score(y_test, log_df1)}\")"
      ],
      "metadata": {
        "id": "ml7vORUcMgcD",
        "outputId": "9c944052-29f1-4a42-e6d3-e620e30a01bb",
        "colab": {
          "base_uri": "https://localhost:8080/"
        }
      },
      "execution_count": null,
      "outputs": [
        {
          "output_type": "stream",
          "name": "stdout",
          "text": [
            "Untuned Logistic Accuracy: 0.7702702702702703\n",
            "Tuned Logistic Accuracy: 0.6756756756756757\n"
          ]
        }
      ]
    },
    {
      "cell_type": "code",
      "source": [
        "\n",
        "\n",
        "print(f\"Untuned KNN Accuracy: {accuracy_score(y_test, yknn1)}\")\n",
        "\n",
        "\n",
        "\n",
        "print(f\"Tuned KNN Accuracy: {accuracy_score(y_test, yknn2)}\")"
      ],
      "metadata": {
        "id": "uO9hIAEAMZxG",
        "outputId": "7ab7b77d-24d7-4263-a9b6-16873a06c882",
        "colab": {
          "base_uri": "https://localhost:8080/"
        }
      },
      "execution_count": null,
      "outputs": [
        {
          "output_type": "stream",
          "name": "stdout",
          "text": [
            "Untuned KNN Accuracy: 0.7567567567567568\n",
            "Tuned KNN Accuracy: 0.7837837837837838\n"
          ]
        }
      ]
    },
    {
      "cell_type": "code",
      "source": [
        "#My final chosen model is KNN because it has better accuracy when tuned than the logistic model."
      ],
      "metadata": {
        "id": "kkmoy8ksMxMD"
      },
      "execution_count": null,
      "outputs": []
    },
    {
      "cell_type": "code",
      "source": [
        ""
      ],
      "metadata": {
        "id": "x6Tj9vm_N9zf"
      },
      "execution_count": null,
      "outputs": []
    }
  ]
}