{
  "nbformat": 4,
  "nbformat_minor": 0,
  "metadata": {
    "colab": {
      "name": "BeltExamRetakeMarcus.ipynb",
      "provenance": [],
      "collapsed_sections": [],
      "authorship_tag": "ABX9TyOsUsCX0nbiXNuxt6HOpmd7",
      "include_colab_link": true
    },
    "kernelspec": {
      "name": "python3",
      "display_name": "Python 3"
    },
    "language_info": {
      "name": "python"
    }
  },
  "cells": [
    {
      "cell_type": "markdown",
      "metadata": {
        "id": "view-in-github",
        "colab_type": "text"
      },
      "source": [
        "<a href=\"https://colab.research.google.com/github/mpartain1/sales-predictions/blob/main/BeltExamRetakeMarcus.ipynb\" target=\"_parent\"><img src=\"https://colab.research.google.com/assets/colab-badge.svg\" alt=\"Open In Colab\"/></a>"
      ]
    },
    {
      "cell_type": "code",
      "execution_count": 231,
      "metadata": {
        "id": "x6rfhZwXmMY7"
      },
      "outputs": [],
      "source": [
        "import pandas as pd\n",
        "import matplotlib.pyplot as plt\n",
        "import seaborn as sns\n",
        "import numpy as np\n",
        "from sklearn.model_selection import train_test_split\n",
        "from sklearn.compose import make_column_selector\n",
        "from sklearn.preprocessing import OrdinalEncoder\n",
        "from sklearn.compose import make_column_transformer\n",
        "from sklearn.impute import SimpleImputer\n",
        "from sklearn.pipeline import make_pipeline\n",
        "from sklearn import set_config\n",
        "from sklearn.linear_model import LogisticRegression\n",
        "from sklearn.preprocessing import StandardScaler\n",
        "from sklearn.tree import DecisionTreeClassifier\n",
        "from sklearn.metrics import accuracy_score, precision_score, recall_score, classification_report, ConfusionMatrixDisplay\n",
        "set_config(display='diagram')"
      ]
    },
    {
      "cell_type": "code",
      "source": [
        "df = pd.read_csv('/content/Belt2_B_diabetes_v2_final.csv')\n",
        "df['Glucose'] = df['Glucose'].round(decimals = 0)\n",
        "\n",
        "df.head()"
      ],
      "metadata": {
        "colab": {
          "base_uri": "https://localhost:8080/",
          "height": 206
        },
        "id": "ou2g6kBOmfgd",
        "outputId": "cbe2d181-f218-44fb-f034-327bad966e7b"
      },
      "execution_count": 232,
      "outputs": [
        {
          "output_type": "execute_result",
          "data": {
            "text/plain": [
              "   Pregnancies  Glucose  BloodPressure  SkinThickness  Insulin  \\\n",
              "0            4    189.0          110.0           31.0      NaN   \n",
              "1            2    157.0           74.0           35.0    440.0   \n",
              "2            6     98.0           58.0           33.0    190.0   \n",
              "3            6    111.0           64.0           39.0      NaN   \n",
              "4            3    106.0           72.0            NaN      NaN   \n",
              "\n",
              "  DiabetesPedigreeFunction WeightGroup AgeGroup Gender  Outcome  \n",
              "0                     0_68  overweight  18 - 44      F        0  \n",
              "1                    0.134     obese_2  18 - 44      F        0  \n",
              "2                     0.43     obese_1  18 - 44      F        0  \n",
              "3                     0.26     obese_1  18 - 44      F        0  \n",
              "4                    0_207  overweight  18 - 44      F        0  "
            ],
            "text/html": [
              "\n",
              "  <div id=\"df-de3b90b9-edef-4bac-abf8-eeb0cf5d7a61\">\n",
              "    <div class=\"colab-df-container\">\n",
              "      <div>\n",
              "<style scoped>\n",
              "    .dataframe tbody tr th:only-of-type {\n",
              "        vertical-align: middle;\n",
              "    }\n",
              "\n",
              "    .dataframe tbody tr th {\n",
              "        vertical-align: top;\n",
              "    }\n",
              "\n",
              "    .dataframe thead th {\n",
              "        text-align: right;\n",
              "    }\n",
              "</style>\n",
              "<table border=\"1\" class=\"dataframe\">\n",
              "  <thead>\n",
              "    <tr style=\"text-align: right;\">\n",
              "      <th></th>\n",
              "      <th>Pregnancies</th>\n",
              "      <th>Glucose</th>\n",
              "      <th>BloodPressure</th>\n",
              "      <th>SkinThickness</th>\n",
              "      <th>Insulin</th>\n",
              "      <th>DiabetesPedigreeFunction</th>\n",
              "      <th>WeightGroup</th>\n",
              "      <th>AgeGroup</th>\n",
              "      <th>Gender</th>\n",
              "      <th>Outcome</th>\n",
              "    </tr>\n",
              "  </thead>\n",
              "  <tbody>\n",
              "    <tr>\n",
              "      <th>0</th>\n",
              "      <td>4</td>\n",
              "      <td>189.0</td>\n",
              "      <td>110.0</td>\n",
              "      <td>31.0</td>\n",
              "      <td>NaN</td>\n",
              "      <td>0_68</td>\n",
              "      <td>overweight</td>\n",
              "      <td>18 - 44</td>\n",
              "      <td>F</td>\n",
              "      <td>0</td>\n",
              "    </tr>\n",
              "    <tr>\n",
              "      <th>1</th>\n",
              "      <td>2</td>\n",
              "      <td>157.0</td>\n",
              "      <td>74.0</td>\n",
              "      <td>35.0</td>\n",
              "      <td>440.0</td>\n",
              "      <td>0.134</td>\n",
              "      <td>obese_2</td>\n",
              "      <td>18 - 44</td>\n",
              "      <td>F</td>\n",
              "      <td>0</td>\n",
              "    </tr>\n",
              "    <tr>\n",
              "      <th>2</th>\n",
              "      <td>6</td>\n",
              "      <td>98.0</td>\n",
              "      <td>58.0</td>\n",
              "      <td>33.0</td>\n",
              "      <td>190.0</td>\n",
              "      <td>0.43</td>\n",
              "      <td>obese_1</td>\n",
              "      <td>18 - 44</td>\n",
              "      <td>F</td>\n",
              "      <td>0</td>\n",
              "    </tr>\n",
              "    <tr>\n",
              "      <th>3</th>\n",
              "      <td>6</td>\n",
              "      <td>111.0</td>\n",
              "      <td>64.0</td>\n",
              "      <td>39.0</td>\n",
              "      <td>NaN</td>\n",
              "      <td>0.26</td>\n",
              "      <td>obese_1</td>\n",
              "      <td>18 - 44</td>\n",
              "      <td>F</td>\n",
              "      <td>0</td>\n",
              "    </tr>\n",
              "    <tr>\n",
              "      <th>4</th>\n",
              "      <td>3</td>\n",
              "      <td>106.0</td>\n",
              "      <td>72.0</td>\n",
              "      <td>NaN</td>\n",
              "      <td>NaN</td>\n",
              "      <td>0_207</td>\n",
              "      <td>overweight</td>\n",
              "      <td>18 - 44</td>\n",
              "      <td>F</td>\n",
              "      <td>0</td>\n",
              "    </tr>\n",
              "  </tbody>\n",
              "</table>\n",
              "</div>\n",
              "      <button class=\"colab-df-convert\" onclick=\"convertToInteractive('df-de3b90b9-edef-4bac-abf8-eeb0cf5d7a61')\"\n",
              "              title=\"Convert this dataframe to an interactive table.\"\n",
              "              style=\"display:none;\">\n",
              "        \n",
              "  <svg xmlns=\"http://www.w3.org/2000/svg\" height=\"24px\"viewBox=\"0 0 24 24\"\n",
              "       width=\"24px\">\n",
              "    <path d=\"M0 0h24v24H0V0z\" fill=\"none\"/>\n",
              "    <path d=\"M18.56 5.44l.94 2.06.94-2.06 2.06-.94-2.06-.94-.94-2.06-.94 2.06-2.06.94zm-11 1L8.5 8.5l.94-2.06 2.06-.94-2.06-.94L8.5 2.5l-.94 2.06-2.06.94zm10 10l.94 2.06.94-2.06 2.06-.94-2.06-.94-.94-2.06-.94 2.06-2.06.94z\"/><path d=\"M17.41 7.96l-1.37-1.37c-.4-.4-.92-.59-1.43-.59-.52 0-1.04.2-1.43.59L10.3 9.45l-7.72 7.72c-.78.78-.78 2.05 0 2.83L4 21.41c.39.39.9.59 1.41.59.51 0 1.02-.2 1.41-.59l7.78-7.78 2.81-2.81c.8-.78.8-2.07 0-2.86zM5.41 20L4 18.59l7.72-7.72 1.47 1.35L5.41 20z\"/>\n",
              "  </svg>\n",
              "      </button>\n",
              "      \n",
              "  <style>\n",
              "    .colab-df-container {\n",
              "      display:flex;\n",
              "      flex-wrap:wrap;\n",
              "      gap: 12px;\n",
              "    }\n",
              "\n",
              "    .colab-df-convert {\n",
              "      background-color: #E8F0FE;\n",
              "      border: none;\n",
              "      border-radius: 50%;\n",
              "      cursor: pointer;\n",
              "      display: none;\n",
              "      fill: #1967D2;\n",
              "      height: 32px;\n",
              "      padding: 0 0 0 0;\n",
              "      width: 32px;\n",
              "    }\n",
              "\n",
              "    .colab-df-convert:hover {\n",
              "      background-color: #E2EBFA;\n",
              "      box-shadow: 0px 1px 2px rgba(60, 64, 67, 0.3), 0px 1px 3px 1px rgba(60, 64, 67, 0.15);\n",
              "      fill: #174EA6;\n",
              "    }\n",
              "\n",
              "    [theme=dark] .colab-df-convert {\n",
              "      background-color: #3B4455;\n",
              "      fill: #D2E3FC;\n",
              "    }\n",
              "\n",
              "    [theme=dark] .colab-df-convert:hover {\n",
              "      background-color: #434B5C;\n",
              "      box-shadow: 0px 1px 3px 1px rgba(0, 0, 0, 0.15);\n",
              "      filter: drop-shadow(0px 1px 2px rgba(0, 0, 0, 0.3));\n",
              "      fill: #FFFFFF;\n",
              "    }\n",
              "  </style>\n",
              "\n",
              "      <script>\n",
              "        const buttonEl =\n",
              "          document.querySelector('#df-de3b90b9-edef-4bac-abf8-eeb0cf5d7a61 button.colab-df-convert');\n",
              "        buttonEl.style.display =\n",
              "          google.colab.kernel.accessAllowed ? 'block' : 'none';\n",
              "\n",
              "        async function convertToInteractive(key) {\n",
              "          const element = document.querySelector('#df-de3b90b9-edef-4bac-abf8-eeb0cf5d7a61');\n",
              "          const dataTable =\n",
              "            await google.colab.kernel.invokeFunction('convertToInteractive',\n",
              "                                                     [key], {});\n",
              "          if (!dataTable) return;\n",
              "\n",
              "          const docLinkHtml = 'Like what you see? Visit the ' +\n",
              "            '<a target=\"_blank\" href=https://colab.research.google.com/notebooks/data_table.ipynb>data table notebook</a>'\n",
              "            + ' to learn more about interactive tables.';\n",
              "          element.innerHTML = '';\n",
              "          dataTable['output_type'] = 'display_data';\n",
              "          await google.colab.output.renderOutput(dataTable, element);\n",
              "          const docLink = document.createElement('div');\n",
              "          docLink.innerHTML = docLinkHtml;\n",
              "          element.appendChild(docLink);\n",
              "        }\n",
              "      </script>\n",
              "    </div>\n",
              "  </div>\n",
              "  "
            ]
          },
          "metadata": {},
          "execution_count": 232
        }
      ]
    },
    {
      "cell_type": "code",
      "source": [
        "df['WeightGroup'] = df['WeightGroup'].astype('string')\n",
        "df['AgeGroup'] = df['AgeGroup'].astype('string')\n",
        "df['Gender'] = df['Gender'].astype('string')\n",
        "df.info()"
      ],
      "metadata": {
        "colab": {
          "base_uri": "https://localhost:8080/"
        },
        "id": "XvTTjzhUuuHJ",
        "outputId": "1f7e9f41-fcad-4270-cfc4-8caeff3bf8eb"
      },
      "execution_count": 233,
      "outputs": [
        {
          "output_type": "stream",
          "name": "stdout",
          "text": [
            "<class 'pandas.core.frame.DataFrame'>\n",
            "RangeIndex: 642 entries, 0 to 641\n",
            "Data columns (total 10 columns):\n",
            " #   Column                    Non-Null Count  Dtype  \n",
            "---  ------                    --------------  -----  \n",
            " 0   Pregnancies               642 non-null    int64  \n",
            " 1   Glucose                   638 non-null    float64\n",
            " 2   BloodPressure             616 non-null    float64\n",
            " 3   SkinThickness             455 non-null    float64\n",
            " 4   Insulin                   331 non-null    float64\n",
            " 5   DiabetesPedigreeFunction  642 non-null    object \n",
            " 6   WeightGroup               642 non-null    string \n",
            " 7   AgeGroup                  642 non-null    string \n",
            " 8   Gender                    642 non-null    string \n",
            " 9   Outcome                   642 non-null    int64  \n",
            "dtypes: float64(4), int64(2), object(1), string(3)\n",
            "memory usage: 50.3+ KB\n"
          ]
        }
      ]
    },
    {
      "cell_type": "code",
      "source": [
        "df['Pregnancies'].value_counts()\n",
        "df.drop(df.index[(df.Pregnancies > 15)], inplace = True)\n",
        "df['Pregnancies'].value_counts()\n",
        "#removes the 1000 impossible pregnancy value"
      ],
      "metadata": {
        "colab": {
          "base_uri": "https://localhost:8080/"
        },
        "id": "A9ypZ3bBmvwI",
        "outputId": "a7d914b2-a452-45fd-9e7b-0be66f908ad1"
      },
      "execution_count": 234,
      "outputs": [
        {
          "output_type": "execute_result",
          "data": {
            "text/plain": [
              "1     109\n",
              "0      95\n",
              "2      87\n",
              "3      60\n",
              "4      55\n",
              "5      44\n",
              "6      41\n",
              "7      41\n",
              "8      33\n",
              "9      25\n",
              "10     21\n",
              "11     10\n",
              "13      9\n",
              "12      8\n",
              "14      2\n",
              "15      1\n",
              "Name: Pregnancies, dtype: int64"
            ]
          },
          "metadata": {},
          "execution_count": 234
        }
      ]
    },
    {
      "cell_type": "code",
      "source": [
        "df['Glucose'].value_counts()\n",
        "df[\"Glucose\"] = df[\"Glucose\"].astype('int64', errors = \"ignore\")\n",
        "plt.style.use('ggplot')\n",
        "df['Glucose'].hist()"
      ],
      "metadata": {
        "colab": {
          "base_uri": "https://localhost:8080/",
          "height": 282
        },
        "id": "1mTZsgmHoGjo",
        "outputId": "4e49db7b-283a-411e-c0b1-17224a2e5967"
      },
      "execution_count": 235,
      "outputs": [
        {
          "output_type": "execute_result",
          "data": {
            "text/plain": [
              "<matplotlib.axes._subplots.AxesSubplot at 0x7fefc12797d0>"
            ]
          },
          "metadata": {},
          "execution_count": 235
        },
        {
          "output_type": "display_data",
          "data": {
            "text/plain": [
              "<Figure size 432x288 with 1 Axes>"
            ],
            "image/png": "[encoded data removed]"
          },
          "metadata": {}
        }
      ]
    },
    {
      "cell_type": "code",
      "source": [
        "df['BloodPressure'].value_counts()\n",
        "df.BloodPressure = df.BloodPressure.astype('int64', errors = 'ignore')\n",
        "plt.style.use('ggplot')\n",
        "df['BloodPressure'].hist()"
      ],
      "metadata": {
        "colab": {
          "base_uri": "https://localhost:8080/",
          "height": 282
        },
        "id": "VAhFpM8Up5ug",
        "outputId": "20d8bd09-607c-4c8f-8278-2512e10e22f1"
      },
      "execution_count": 236,
      "outputs": [
        {
          "output_type": "execute_result",
          "data": {
            "text/plain": [
              "<matplotlib.axes._subplots.AxesSubplot at 0x7fefc0babd10>"
            ]
          },
          "metadata": {},
          "execution_count": 236
        },
        {
          "output_type": "display_data",
          "data": {
            "text/plain": [
              "<Figure size 432x288 with 1 Axes>"
            ],
            "image/png": "[encoded data removed]"
          },
          "metadata": {}
        }
      ]
    },
    {
      "cell_type": "code",
      "source": [
        "df['SkinThickness'].value_counts()\n",
        "df.drop(df.index[(df.SkinThickness > 80)], inplace = True)\n",
        "df['SkinThickness'] = df['SkinThickness'].astype(int, errors = 'ignore')\n",
        "df['SkinThickness'].describe()\n",
        "plt.style.use('ggplot')\n",
        "df['SkinThickness'].hist()\n",
        "#I dropped the values greater than 80 because they were far removed\n",
        "#from the rest of the data and skewed the data unecessarily."
      ],
      "metadata": {
        "colab": {
          "base_uri": "https://localhost:8080/",
          "height": 282
        },
        "id": "nerIll8aqLri",
        "outputId": "7fd2e922-73df-4cd3-88ee-2af75050e2c8"
      },
      "execution_count": 237,
      "outputs": [
        {
          "output_type": "execute_result",
          "data": {
            "text/plain": [
              "<matplotlib.axes._subplots.AxesSubplot at 0x7fefc1090610>"
            ]
          },
          "metadata": {},
          "execution_count": 237
        },
        {
          "output_type": "display_data",
          "data": {
            "text/plain": [
              "<Figure size 432x288 with 1 Axes>"
            ],
            "image/png": "[encoded data removed]"
          },
          "metadata": {}
        }
      ]
    },
    {
      "cell_type": "code",
      "source": [
        "df['Insulin'].value_counts()\n",
        "df['Insulin'] = df['Insulin'].astype(int, errors = 'ignore')\n",
        "df['Insulin'].describe()\n",
        "plt.style.use('ggplot')\n",
        "df['Insulin'].hist()\n",
        "#I had to drop insulin values above 700 as these were not reasonable.\n"
      ],
      "metadata": {
        "colab": {
          "base_uri": "https://localhost:8080/",
          "height": 282
        },
        "id": "6LTqezRWqapr",
        "outputId": "62f09803-ce33-4ac7-82ff-6e18644cc447"
      },
      "execution_count": 238,
      "outputs": [
        {
          "output_type": "execute_result",
          "data": {
            "text/plain": [
              "<matplotlib.axes._subplots.AxesSubplot at 0x7fefbdc97190>"
            ]
          },
          "metadata": {},
          "execution_count": 238
        },
        {
          "output_type": "display_data",
          "data": {
            "text/plain": [
              "<Figure size 432x288 with 1 Axes>"
            ],
            "image/png": "[encoded data removed]"
          },
          "metadata": {}
        }
      ]
    },
    {
      "cell_type": "code",
      "source": [
        "df['DiabetesPedigreeFunction'].value_counts()\n",
        "df['DiabetesPedigreeFunction'] = df['DiabetesPedigreeFunction'].astype(float)\n",
        "df['DiabetesPedigreeFunction'].describe()\n",
        "plt.style.use('ggplot')\n",
        "df['DiabetesPedigreeFunction'].hist()\n",
        "df.drop(df.index[(df.DiabetesPedigreeFunction > 40)], inplace = True)\n",
        "df['DiabetesPedigreeFunction'].hist()\n",
        "#There were some extreme values that skewed the data in this column,\n",
        "#they were extremely far away from the bulk of the data relatively,\n",
        "#so I had to delete these rows and used the histogram testing different\n",
        "#thresholds until I removed all the impossible/unreasonable data points.\n",
        "\n",
        "\n",
        "\n"
      ],
      "metadata": {
        "colab": {
          "base_uri": "https://localhost:8080/",
          "height": 295
        },
        "id": "LTgZ4inVq5v3",
        "outputId": "c85b0766-5c52-4def-d9d9-4ab586b688ec"
      },
      "execution_count": 239,
      "outputs": [
        {
          "output_type": "execute_result",
          "data": {
            "text/plain": [
              "<matplotlib.axes._subplots.AxesSubplot at 0x7fefc1017ad0>"
            ]
          },
          "metadata": {},
          "execution_count": 239
        },
        {
          "output_type": "display_data",
          "data": {
            "text/plain": [
              "<Figure size 432x288 with 1 Axes>"
            ],
            "image/png": "[encoded data removed]"
          },
          "metadata": {}
        }
      ]
    },
    {
      "cell_type": "code",
      "source": [
        "df['WeightGroup'].value_counts()"
      ],
      "metadata": {
        "colab": {
          "base_uri": "https://localhost:8080/"
        },
        "id": "3LHHL5BPtC1y",
        "outputId": "622613f7-2b04-4749-e5d4-10932acee085"
      },
      "execution_count": 240,
      "outputs": [
        {
          "output_type": "execute_result",
          "data": {
            "text/plain": [
              "obese_1           188\n",
              "overweight        134\n",
              "obese_2           122\n",
              "obsese_3           80\n",
              "healthy weight     75\n",
              "MISSING             8\n",
              "underweight         4\n",
              "Name: WeightGroup, dtype: Int64"
            ]
          },
          "metadata": {},
          "execution_count": 240
        }
      ]
    },
    {
      "cell_type": "code",
      "source": [
        "df['AgeGroup'].value_counts()"
      ],
      "metadata": {
        "colab": {
          "base_uri": "https://localhost:8080/"
        },
        "id": "NrbFcuLUxgi-",
        "outputId": "86b037e5-4e11-4960-f16f-7a0f5a7ac046"
      },
      "execution_count": 241,
      "outputs": [
        {
          "output_type": "execute_result",
          "data": {
            "text/plain": [
              "18 - 44    503\n",
              "45 - 64     97\n",
              ">65          8\n",
              "<65          3\n",
              "Name: AgeGroup, dtype: Int64"
            ]
          },
          "metadata": {},
          "execution_count": 241
        }
      ]
    },
    {
      "cell_type": "code",
      "source": [
        "df['Gender'] = df['Gender'].replace('m', 'M')\n",
        "df['Gender'].value_counts()\n",
        "#Here I replaced the m with M to get consistent categorical data."
      ],
      "metadata": {
        "colab": {
          "base_uri": "https://localhost:8080/"
        },
        "id": "pe0X-Pt50ZGx",
        "outputId": "f32bff02-6650-4359-956d-066f0b54014e"
      },
      "execution_count": 242,
      "outputs": [
        {
          "output_type": "execute_result",
          "data": {
            "text/plain": [
              "F    536\n",
              "M     75\n",
              "Name: Gender, dtype: Int64"
            ]
          },
          "metadata": {},
          "execution_count": 242
        }
      ]
    },
    {
      "cell_type": "code",
      "source": [
        "df['Outcome'].value_counts()"
      ],
      "metadata": {
        "colab": {
          "base_uri": "https://localhost:8080/"
        },
        "id": "mK4E66H_0cDy",
        "outputId": "e4f65683-8586-4c72-cce8-e5c2928d0f22"
      },
      "execution_count": 243,
      "outputs": [
        {
          "output_type": "execute_result",
          "data": {
            "text/plain": [
              "0    352\n",
              "1    259\n",
              "Name: Outcome, dtype: int64"
            ]
          },
          "metadata": {},
          "execution_count": 243
        }
      ]
    },
    {
      "cell_type": "code",
      "source": [
        "df.info()"
      ],
      "metadata": {
        "colab": {
          "base_uri": "https://localhost:8080/"
        },
        "id": "5ySwuXT60oiC",
        "outputId": "9412570e-4510-4962-9e58-a861b216f4d2"
      },
      "execution_count": 244,
      "outputs": [
        {
          "output_type": "stream",
          "name": "stdout",
          "text": [
            "<class 'pandas.core.frame.DataFrame'>\n",
            "Int64Index: 611 entries, 1 to 641\n",
            "Data columns (total 10 columns):\n",
            " #   Column                    Non-Null Count  Dtype  \n",
            "---  ------                    --------------  -----  \n",
            " 0   Pregnancies               611 non-null    int64  \n",
            " 1   Glucose                   608 non-null    float64\n",
            " 2   BloodPressure             585 non-null    float64\n",
            " 3   SkinThickness             433 non-null    float64\n",
            " 4   Insulin                   314 non-null    float64\n",
            " 5   DiabetesPedigreeFunction  611 non-null    float64\n",
            " 6   WeightGroup               611 non-null    string \n",
            " 7   AgeGroup                  611 non-null    string \n",
            " 8   Gender                    611 non-null    string \n",
            " 9   Outcome                   611 non-null    int64  \n",
            "dtypes: float64(5), int64(2), string(3)\n",
            "memory usage: 52.5 KB\n"
          ]
        }
      ]
    },
    {
      "cell_type": "code",
      "source": [
        "y = df['Outcome']\n",
        "X = df.drop(columns=['Outcome'])\n",
        "\n",
        "X_train, X_test, y_train, y_test = train_test_split(X, y, random_state=42)\n",
        "X.isna().any()"
      ],
      "metadata": {
        "id": "iuV8do-h0uxk",
        "colab": {
          "base_uri": "https://localhost:8080/"
        },
        "outputId": "a864b827-edfd-4d63-da92-8082ecb81c13"
      },
      "execution_count": 245,
      "outputs": [
        {
          "output_type": "execute_result",
          "data": {
            "text/plain": [
              "Pregnancies                 False\n",
              "Glucose                      True\n",
              "BloodPressure                True\n",
              "SkinThickness                True\n",
              "Insulin                      True\n",
              "DiabetesPedigreeFunction    False\n",
              "WeightGroup                 False\n",
              "AgeGroup                    False\n",
              "Gender                      False\n",
              "dtype: bool"
            ]
          },
          "metadata": {},
          "execution_count": 245
        }
      ]
    },
    {
      "cell_type": "code",
      "source": [
        "plt.style.use('ggplot')\n",
        "X_train['Insulin'].hist()"
      ],
      "metadata": {
        "colab": {
          "base_uri": "https://localhost:8080/",
          "height": 282
        },
        "id": "ogwl61KMZUb-",
        "outputId": "f08517e2-3438-4c4a-9bdb-ed2d3c384c76"
      },
      "execution_count": 246,
      "outputs": [
        {
          "output_type": "execute_result",
          "data": {
            "text/plain": [
              "<matplotlib.axes._subplots.AxesSubplot at 0x7fefbdbdb4d0>"
            ]
          },
          "metadata": {},
          "execution_count": 246
        },
        {
          "output_type": "display_data",
          "data": {
            "text/plain": [
              "<Figure size 432x288 with 1 Axes>"
            ],
            "image/png": "[encoded data removed]"
          },
          "metadata": {}
        }
      ]
    },
    {
      "cell_type": "code",
      "source": [
        "plt.style.use('ggplot')\n",
        "X_train['Glucose'].hist()"
      ],
      "metadata": {
        "colab": {
          "base_uri": "https://localhost:8080/",
          "height": 282
        },
        "id": "5nXsFz6SZft-",
        "outputId": "dfe7e162-064f-4915-eb9b-4983126df60f"
      },
      "execution_count": 247,
      "outputs": [
        {
          "output_type": "execute_result",
          "data": {
            "text/plain": [
              "<matplotlib.axes._subplots.AxesSubplot at 0x7fefbda35690>"
            ]
          },
          "metadata": {},
          "execution_count": 247
        },
        {
          "output_type": "display_data",
          "data": {
            "text/plain": [
              "<Figure size 432x288 with 1 Axes>"
            ],
            "image/png": "[encoded data removed]"
          },
          "metadata": {}
        }
      ]
    },
    {
      "cell_type": "code",
      "source": [
        "plt.style.use('ggplot')\n",
        "X_train['SkinThickness'].hist()"
      ],
      "metadata": {
        "colab": {
          "base_uri": "https://localhost:8080/",
          "height": 282
        },
        "id": "VDT-YXRRZkbx",
        "outputId": "990d777e-30fd-44fc-c5c2-d908f44acf46"
      },
      "execution_count": 248,
      "outputs": [
        {
          "output_type": "execute_result",
          "data": {
            "text/plain": [
              "<matplotlib.axes._subplots.AxesSubplot at 0x7fefbd9c6f10>"
            ]
          },
          "metadata": {},
          "execution_count": 248
        },
        {
          "output_type": "display_data",
          "data": {
            "text/plain": [
              "<Figure size 432x288 with 1 Axes>"
            ],
            "image/png": "[encoded data removed]"
          },
          "metadata": {}
        }
      ]
    },
    {
      "cell_type": "code",
      "source": [
        "plt.style.use('ggplot')\n",
        "X_train['BloodPressure'].hist()"
      ],
      "metadata": {
        "colab": {
          "base_uri": "https://localhost:8080/",
          "height": 282
        },
        "id": "NcmcfERKZnte",
        "outputId": "075e8ef7-9f8a-49bb-a814-ca52018d2ac1"
      },
      "execution_count": 249,
      "outputs": [
        {
          "output_type": "execute_result",
          "data": {
            "text/plain": [
              "<matplotlib.axes._subplots.AxesSubplot at 0x7fefbd94b850>"
            ]
          },
          "metadata": {},
          "execution_count": 249
        },
        {
          "output_type": "display_data",
          "data": {
            "text/plain": [
              "<Figure size 432x288 with 1 Axes>"
            ],
            "image/png": "[encoded data removed]"
          },
          "metadata": {}
        }
      ]
    },
    {
      "cell_type": "code",
      "source": [
        "df.loc[df['AgeGroup'] == '<65', 'AgeGroup'] = '>65'\n",
        "df['AgeGroup'].value_counts()"
      ],
      "metadata": {
        "colab": {
          "base_uri": "https://localhost:8080/"
        },
        "id": "k8fA8oQiqPKj",
        "outputId": "1cc65213-40ee-498d-b314-03a7d1ff3451"
      },
      "execution_count": 250,
      "outputs": [
        {
          "output_type": "execute_result",
          "data": {
            "text/plain": [
              "18 - 44    503\n",
              "45 - 64     97\n",
              ">65         11\n",
              "Name: AgeGroup, dtype: Int64"
            ]
          },
          "metadata": {},
          "execution_count": 250
        }
      ]
    },
    {
      "cell_type": "markdown",
      "source": [
        "The four visualizations above show us the respective distributions of each of the columns containing missing data.  They show that Glucose, SkinThickness, and BloodPressure data from the train set are not very skewed and follow the typical bell curve look.  However, the 'Insulin' column does not follow this typical distribution as much."
      ],
      "metadata": {
        "id": "1H0HpJ5VbIu8"
      }
    },
    {
      "cell_type": "code",
      "source": [
        "num_selector = make_column_selector(dtype_include='number')\n",
        "cat_selector = make_column_selector(dtype_include='object')\n",
        "mean_imputer = SimpleImputer(strategy='mean')\n",
        "med_imputer = SimpleImputer(strategy = 'median')\n",
        "med_imputer.fit(X_train[['Insulin']])\n",
        "mean_imputer.fit(X_train[['SkinThickness', 'BloodPressure', 'Glucose']])\n",
        "X_train.loc[:, ['Insulin']] = med_imputer.transform(X_train[['Insulin']])\n",
        "X_train.loc[:, ['SkinThickness', 'BloodPressure', 'Glucose']] = mean_imputer.transform(X_train[['SkinThickness', 'BloodPressure', 'Glucose']])\n",
        "X_test.loc[:, ['Insulin']] = med_imputer.transform(X_test[['Insulin']])\n",
        "X_test.loc[:, ['SkinThickness', 'BloodPressure', 'Glucose']] = mean_imputer.transform(X_test[['SkinThickness', 'BloodPressure', 'Glucose']])\n",
        "print(X_train.isna().any())\n",
        "print(X_test.isna().any())"
      ],
      "metadata": {
        "colab": {
          "base_uri": "https://localhost:8080/"
        },
        "id": "ZluQwlkXROAm",
        "outputId": "45f3b89f-b0ab-41bd-9835-cc0dac2f6c83"
      },
      "execution_count": 279,
      "outputs": [
        {
          "output_type": "stream",
          "name": "stdout",
          "text": [
            "Pregnancies                 False\n",
            "Glucose                     False\n",
            "BloodPressure               False\n",
            "SkinThickness               False\n",
            "Insulin                     False\n",
            "DiabetesPedigreeFunction    False\n",
            "WeightGroup                 False\n",
            "AgeGroup                    False\n",
            "Gender                      False\n",
            "dtype: bool\n",
            "Pregnancies                 False\n",
            "Glucose                     False\n",
            "BloodPressure               False\n",
            "SkinThickness               False\n",
            "Insulin                     False\n",
            "DiabetesPedigreeFunction    False\n",
            "WeightGroup                 False\n",
            "AgeGroup                    False\n",
            "Gender                      False\n",
            "dtype: bool\n"
          ]
        }
      ]
    },
    {
      "cell_type": "markdown",
      "source": [
        "I imputed missing values from the 'Isulin' column with its median value because from looking at the histogram distribution of this column, it appears to be skewed, in which case it is beneficial to look at the median as more representative of a central typical value in the data.  I imputed missing values from 'SkinThickness', 'BloodPressure', and 'Glucose' columns with their mean values because these histograms, as shown above, were not very skewed, indicating that the mean would be a better measurement of a central typical value for the dataset."
      ],
      "metadata": {
        "id": "BCowecOFYfvF"
      }
    },
    {
      "cell_type": "code",
      "source": [
        "corr=df.corr()\n",
        "sns.heatmap(corr, cmap = 'Greens', annot = True)"
      ],
      "metadata": {
        "colab": {
          "base_uri": "https://localhost:8080/",
          "height": 407
        },
        "id": "F6d35W8ybjPd",
        "outputId": "24e084ef-1153-4318-92b4-521e610769a8"
      },
      "execution_count": 271,
      "outputs": [
        {
          "output_type": "execute_result",
          "data": {
            "text/plain": [
              "<matplotlib.axes._subplots.AxesSubplot at 0x7fefbd7f9a50>"
            ]
          },
          "metadata": {},
          "execution_count": 271
        },
        {
          "output_type": "display_data",
          "data": {
            "text/plain": [
              "<Figure size 432x288 with 2 Axes>"
            ],
            "image/png": "[encoded data removed]"
          },
          "metadata": {}
        }
      ]
    },
    {
      "cell_type": "markdown",
      "source": [
        "From this correlation heatmap, we can see that the most correlated variables are Insulin and Glucose.  Of more importance, however, we can see that the most correlated variable with Outcome appears to be Glucose, with a correlation of 0.51.  The second most correlated variable with Outcome is Insulin at 0.33."
      ],
      "metadata": {
        "id": "_GT-MFt9cCWc"
      }
    },
    {
      "cell_type": "code",
      "source": [
        "# Define a dictionary for encoding our variables\n",
        "weights = [\"MISSING\", \"underweight\", \"healthy weight\", \"overweight\", \"obese_1\", \"obese_2\", \"obese_3\"]\n",
        "ages = [\"18 - 44\", \"45 - 64\", \">65\"]\n",
        "gender = [\"M\", \"F\"]"
      ],
      "metadata": {
        "id": "bIObEOl-r5L6"
      },
      "execution_count": 272,
      "outputs": []
    },
    {
      "cell_type": "code",
      "source": [
        "\n",
        "ordinal_encoder = OrdinalEncoder(categories = [weights, ages, gender], handle_unknown = 'ignore')\n",
        "scaler = StandardScaler()\n",
        "numeric_pipe = make_pipeline(scaler)\n",
        "categorical_pipe = make_pipeline(ordinal_encoder)\n",
        "num_tuple = (numeric_pipe, num_selector)\n",
        "cat_tuple = (categorical_pipe, cat_selector)\n",
        "preprocessor = make_column_transformer(num_tuple, cat_tuple)\n",
        "preprocessor"
      ],
      "metadata": {
        "colab": {
          "base_uri": "https://localhost:8080/",
          "height": 118
        },
        "id": "U1jizRBsU16g",
        "outputId": "a1407b4e-0635-4f97-f455-3843f051faf4"
      },
      "execution_count": 273,
      "outputs": [
        {
          "output_type": "execute_result",
          "data": {
            "text/plain": [
              "ColumnTransformer(transformers=[('pipeline-1',\n",
              "                                 Pipeline(steps=[('standardscaler',\n",
              "                                                  StandardScaler())]),\n",
              "                                 <sklearn.compose._column_transformer.make_column_selector object at 0x7fefbdbae890>),\n",
              "                                ('pipeline-2',\n",
              "                                 Pipeline(steps=[('ordinalencoder',\n",
              "                                                  OrdinalEncoder(categories=[['MISSING',\n",
              "                                                                              'underweight',\n",
              "                                                                              'healthy '\n",
              "                                                                              'weight',\n",
              "                                                                              'overweight',\n",
              "                                                                              'obese_1',\n",
              "                                                                              'obese_2',\n",
              "                                                                              'obese_3'],\n",
              "                                                                             ['18 '\n",
              "                                                                              '- '\n",
              "                                                                              '44',\n",
              "                                                                              '45 '\n",
              "                                                                              '- '\n",
              "                                                                              '64',\n",
              "                                                                              '>65'],\n",
              "                                                                             ['M',\n",
              "                                                                              'F']],\n",
              "                                                                 handle_unknown='ignore'))]),\n",
              "                                 <sklearn.compose._column_transformer.make_column_selector object at 0x7fefbd9437d0>)])"
            ],
            "text/html": [
              "<style>#sk-8226c04b-b93a-4a15-a272-29adc6771108 {color: black;background-color: white;}#sk-8226c04b-b93a-4a15-a272-29adc6771108 pre{padding: 0;}#sk-8226c04b-b93a-4a15-a272-29adc6771108 div.sk-toggleable {background-color: white;}#sk-8226c04b-b93a-4a15-a272-29adc6771108 label.sk-toggleable__label {cursor: pointer;display: block;width: 100%;margin-bottom: 0;padding: 0.3em;box-sizing: border-box;text-align: center;}#sk-8226c04b-b93a-4a15-a272-29adc6771108 label.sk-toggleable__label-arrow:before {content: \"▸\";float: left;margin-right: 0.25em;color: #696969;}#sk-8226c04b-b93a-4a15-a272-29adc6771108 label.sk-toggleable__label-arrow:hover:before {color: black;}#sk-8226c04b-b93a-4a15-a272-29adc6771108 div.sk-estimator:hover label.sk-toggleable__label-arrow:before {color: black;}#sk-8226c04b-b93a-4a15-a272-29adc6771108 div.sk-toggleable__content {max-height: 0;max-width: 0;overflow: hidden;text-align: left;background-color: #f0f8ff;}#sk-8226c04b-b93a-4a15-a272-29adc6771108 div.sk-toggleable__content pre {margin: 0.2em;color: black;border-radius: 0.25em;background-color: #f0f8ff;}#sk-8226c04b-b93a-4a15-a272-29adc6771108 input.sk-toggleable__control:checked~div.sk-toggleable__content {max-height: 200px;max-width: 100%;overflow: auto;}#sk-8226c04b-b93a-4a15-a272-29adc6771108 input.sk-toggleable__control:checked~label.sk-toggleable__label-arrow:before {content: \"▾\";}#sk-8226c04b-b93a-4a15-a272-29adc6771108 div.sk-estimator input.sk-toggleable__control:checked~label.sk-toggleable__label {background-color: #d4ebff;}#sk-8226c04b-b93a-4a15-a272-29adc6771108 div.sk-label input.sk-toggleable__control:checked~label.sk-toggleable__label {background-color: #d4ebff;}#sk-8226c04b-b93a-4a15-a272-29adc6771108 input.sk-hidden--visually {border: 0;clip: rect(1px 1px 1px 1px);clip: rect(1px, 1px, 1px, 1px);height: 1px;margin: -1px;overflow: hidden;padding: 0;position: absolute;width: 1px;}#sk-8226c04b-b93a-4a15-a272-29adc6771108 div.sk-estimator {font-family: monospace;background-color: #f0f8ff;border: 1px dotted black;border-radius: 0.25em;box-sizing: border-box;margin-bottom: 0.5em;}#sk-8226c04b-b93a-4a15-a272-29adc6771108 div.sk-estimator:hover {background-color: #d4ebff;}#sk-8226c04b-b93a-4a15-a272-29adc6771108 div.sk-parallel-item::after {content: \"\";width: 100%;border-bottom: 1px solid gray;flex-grow: 1;}#sk-8226c04b-b93a-4a15-a272-29adc6771108 div.sk-label:hover label.sk-toggleable__label {background-color: #d4ebff;}#sk-8226c04b-b93a-4a15-a272-29adc6771108 div.sk-serial::before {content: \"\";position: absolute;border-left: 1px solid gray;box-sizing: border-box;top: 2em;bottom: 0;left: 50%;}#sk-8226c04b-b93a-4a15-a272-29adc6771108 div.sk-serial {display: flex;flex-direction: column;align-items: center;background-color: white;padding-right: 0.2em;padding-left: 0.2em;}#sk-8226c04b-b93a-4a15-a272-29adc6771108 div.sk-item {z-index: 1;}#sk-8226c04b-b93a-4a15-a272-29adc6771108 div.sk-parallel {display: flex;align-items: stretch;justify-content: center;background-color: white;}#sk-8226c04b-b93a-4a15-a272-29adc6771108 div.sk-parallel::before {content: \"\";position: absolute;border-left: 1px solid gray;box-sizing: border-box;top: 2em;bottom: 0;left: 50%;}#sk-8226c04b-b93a-4a15-a272-29adc6771108 div.sk-parallel-item {display: flex;flex-direction: column;position: relative;background-color: white;}#sk-8226c04b-b93a-4a15-a272-29adc6771108 div.sk-parallel-item:first-child::after {align-self: flex-end;width: 50%;}#sk-8226c04b-b93a-4a15-a272-29adc6771108 div.sk-parallel-item:last-child::after {align-self: flex-start;width: 50%;}#sk-8226c04b-b93a-4a15-a272-29adc6771108 div.sk-parallel-item:only-child::after {width: 0;}#sk-8226c04b-b93a-4a15-a272-29adc6771108 div.sk-dashed-wrapped {border: 1px dashed gray;margin: 0 0.4em 0.5em 0.4em;box-sizing: border-box;padding-bottom: 0.4em;background-color: white;position: relative;}#sk-8226c04b-b93a-4a15-a272-29adc6771108 div.sk-label label {font-family: monospace;font-weight: bold;background-color: white;display: inline-block;line-height: 1.2em;}#sk-8226c04b-b93a-4a15-a272-29adc6771108 div.sk-label-container {position: relative;z-index: 2;text-align: center;}#sk-8226c04b-b93a-4a15-a272-29adc6771108 div.sk-container {/* jupyter's `normalize.less` sets `[hidden] { display: none; }` but bootstrap.min.css set `[hidden] { display: none !important; }` so we also need the `!important` here to be able to override the default hidden behavior on the sphinx rendered scikit-learn.org. See: https://github.com/scikit-learn/scikit-learn/issues/21755 */display: inline-block !important;position: relative;}#sk-8226c04b-b93a-4a15-a272-29adc6771108 div.sk-text-repr-fallback {display: none;}</style><div id=\"sk-8226c04b-b93a-4a15-a272-29adc6771108\" class=\"sk-top-container\"><div class=\"sk-text-repr-fallback\"><pre>ColumnTransformer(transformers=[(&#x27;pipeline-1&#x27;,\n",
              "                                 Pipeline(steps=[(&#x27;standardscaler&#x27;,\n",
              "                                                  StandardScaler())]),\n",
              "                                 &lt;sklearn.compose._column_transformer.make_column_selector object at 0x7fefbdbae890&gt;),\n",
              "                                (&#x27;pipeline-2&#x27;,\n",
              "                                 Pipeline(steps=[(&#x27;ordinalencoder&#x27;,\n",
              "                                                  OrdinalEncoder(categories=[[&#x27;MISSING&#x27;,\n",
              "                                                                              &#x27;underweight&#x27;,\n",
              "                                                                              &#x27;healthy &#x27;\n",
              "                                                                              &#x27;weight&#x27;,\n",
              "                                                                              &#x27;overweight&#x27;,\n",
              "                                                                              &#x27;obese_1&#x27;,\n",
              "                                                                              &#x27;obese_2&#x27;,\n",
              "                                                                              &#x27;obese_3&#x27;],\n",
              "                                                                             [&#x27;18 &#x27;\n",
              "                                                                              &#x27;- &#x27;\n",
              "                                                                              &#x27;44&#x27;,\n",
              "                                                                              &#x27;45 &#x27;\n",
              "                                                                              &#x27;- &#x27;\n",
              "                                                                              &#x27;64&#x27;,\n",
              "                                                                              &#x27;&gt;65&#x27;],\n",
              "                                                                             [&#x27;M&#x27;,\n",
              "                                                                              &#x27;F&#x27;]],\n",
              "                                                                 handle_unknown=&#x27;ignore&#x27;))]),\n",
              "                                 &lt;sklearn.compose._column_transformer.make_column_selector object at 0x7fefbd9437d0&gt;)])</pre><b>Please rerun this cell to show the HTML repr or trust the notebook.</b></div><div class=\"sk-container\" hidden><div class=\"sk-item sk-dashed-wrapped\"><div class=\"sk-label-container\"><div class=\"sk-label sk-toggleable\"><input class=\"sk-toggleable__control sk-hidden--visually\" id=\"f980ee96-0556-47f8-ae91-eefcb7db939d\" type=\"checkbox\" ><label for=\"f980ee96-0556-47f8-ae91-eefcb7db939d\" class=\"sk-toggleable__label sk-toggleable__label-arrow\">ColumnTransformer</label><div class=\"sk-toggleable__content\"><pre>ColumnTransformer(transformers=[(&#x27;pipeline-1&#x27;,\n",
              "                                 Pipeline(steps=[(&#x27;standardscaler&#x27;,\n",
              "                                                  StandardScaler())]),\n",
              "                                 &lt;sklearn.compose._column_transformer.make_column_selector object at 0x7fefbdbae890&gt;),\n",
              "                                (&#x27;pipeline-2&#x27;,\n",
              "                                 Pipeline(steps=[(&#x27;ordinalencoder&#x27;,\n",
              "                                                  OrdinalEncoder(categories=[[&#x27;MISSING&#x27;,\n",
              "                                                                              &#x27;underweight&#x27;,\n",
              "                                                                              &#x27;healthy &#x27;\n",
              "                                                                              &#x27;weight&#x27;,\n",
              "                                                                              &#x27;overweight&#x27;,\n",
              "                                                                              &#x27;obese_1&#x27;,\n",
              "                                                                              &#x27;obese_2&#x27;,\n",
              "                                                                              &#x27;obese_3&#x27;],\n",
              "                                                                             [&#x27;18 &#x27;\n",
              "                                                                              &#x27;- &#x27;\n",
              "                                                                              &#x27;44&#x27;,\n",
              "                                                                              &#x27;45 &#x27;\n",
              "                                                                              &#x27;- &#x27;\n",
              "                                                                              &#x27;64&#x27;,\n",
              "                                                                              &#x27;&gt;65&#x27;],\n",
              "                                                                             [&#x27;M&#x27;,\n",
              "                                                                              &#x27;F&#x27;]],\n",
              "                                                                 handle_unknown=&#x27;ignore&#x27;))]),\n",
              "                                 &lt;sklearn.compose._column_transformer.make_column_selector object at 0x7fefbd9437d0&gt;)])</pre></div></div></div><div class=\"sk-parallel\"><div class=\"sk-parallel-item\"><div class=\"sk-item\"><div class=\"sk-label-container\"><div class=\"sk-label sk-toggleable\"><input class=\"sk-toggleable__control sk-hidden--visually\" id=\"37ea5eab-d323-48ee-9307-618380dd1426\" type=\"checkbox\" ><label for=\"37ea5eab-d323-48ee-9307-618380dd1426\" class=\"sk-toggleable__label sk-toggleable__label-arrow\">pipeline-1</label><div class=\"sk-toggleable__content\"><pre>&lt;sklearn.compose._column_transformer.make_column_selector object at 0x7fefbdbae890&gt;</pre></div></div></div><div class=\"sk-serial\"><div class=\"sk-item\"><div class=\"sk-serial\"><div class=\"sk-item\"><div class=\"sk-estimator sk-toggleable\"><input class=\"sk-toggleable__control sk-hidden--visually\" id=\"18c98073-5aa3-4bcd-bbb7-ea4d9216719f\" type=\"checkbox\" ><label for=\"18c98073-5aa3-4bcd-bbb7-ea4d9216719f\" class=\"sk-toggleable__label sk-toggleable__label-arrow\">StandardScaler</label><div class=\"sk-toggleable__content\"><pre>StandardScaler()</pre></div></div></div></div></div></div></div></div><div class=\"sk-parallel-item\"><div class=\"sk-item\"><div class=\"sk-label-container\"><div class=\"sk-label sk-toggleable\"><input class=\"sk-toggleable__control sk-hidden--visually\" id=\"523075fe-589d-4509-904f-6b7b72ccab01\" type=\"checkbox\" ><label for=\"523075fe-589d-4509-904f-6b7b72ccab01\" class=\"sk-toggleable__label sk-toggleable__label-arrow\">pipeline-2</label><div class=\"sk-toggleable__content\"><pre>&lt;sklearn.compose._column_transformer.make_column_selector object at 0x7fefbd9437d0&gt;</pre></div></div></div><div class=\"sk-serial\"><div class=\"sk-item\"><div class=\"sk-serial\"><div class=\"sk-item\"><div class=\"sk-estimator sk-toggleable\"><input class=\"sk-toggleable__control sk-hidden--visually\" id=\"7dc617a8-321a-4572-8e9a-f66382663c79\" type=\"checkbox\" ><label for=\"7dc617a8-321a-4572-8e9a-f66382663c79\" class=\"sk-toggleable__label sk-toggleable__label-arrow\">OrdinalEncoder</label><div class=\"sk-toggleable__content\"><pre>OrdinalEncoder(categories=[[&#x27;MISSING&#x27;, &#x27;underweight&#x27;, &#x27;healthy weight&#x27;,\n",
              "                            &#x27;overweight&#x27;, &#x27;obese_1&#x27;, &#x27;obese_2&#x27;, &#x27;obese_3&#x27;],\n",
              "                           [&#x27;18 - 44&#x27;, &#x27;45 - 64&#x27;, &#x27;&gt;65&#x27;], [&#x27;M&#x27;, &#x27;F&#x27;]],\n",
              "               handle_unknown=&#x27;ignore&#x27;)</pre></div></div></div></div></div></div></div></div></div></div></div></div>"
            ]
          },
          "metadata": {},
          "execution_count": 273
        }
      ]
    },
    {
      "cell_type": "markdown",
      "source": [
        "I encoded my categorial data with an ordinal encoder because the data does have a particular order.  Looking at the WeightGroup column, the data dictionary tells us that the the groups are based on the CDC's ordering of people from underweight as the lowest rank to obesity_3 at the top.  Furthermore, the AgeGroup column clearly has an ordering to it as well from youngest to oldest."
      ],
      "metadata": {
        "id": "Nstq-FFGlgHf"
      }
    },
    {
      "cell_type": "code",
      "source": [
        "preprocessor.fit(X_train)\n",
        "X_train_processed = preprocessor.transform(X_train)\n",
        "X_test_processed = preprocessor.transform(X_test)"
      ],
      "metadata": {
        "id": "98PCrQpcitXd"
      },
      "execution_count": 274,
      "outputs": []
    },
    {
      "cell_type": "code",
      "source": [
        "x = pd.DataFrame(X_test_processed)\n",
        "x.isna().sum()"
      ],
      "metadata": {
        "colab": {
          "base_uri": "https://localhost:8080/"
        },
        "id": "yH4sx9FMyQZc",
        "outputId": "6cffaa6a-4c77-45da-8aed-a4f9cf7b1737"
      },
      "execution_count": 275,
      "outputs": [
        {
          "output_type": "execute_result",
          "data": {
            "text/plain": [
              "0     0\n",
              "1     3\n",
              "2     6\n",
              "3    48\n",
              "4    79\n",
              "5     0\n",
              "dtype: int64"
            ]
          },
          "metadata": {},
          "execution_count": 275
        }
      ]
    },
    {
      "cell_type": "code",
      "source": [
        "logreg = LogisticRegression()\n",
        "logreg.fit(X_train_processed, y_train)\n",
        "ylog1 = logreg.predict(X_test_processed)"
      ],
      "metadata": {
        "colab": {
          "base_uri": "https://localhost:8080/",
          "height": 201
        },
        "id": "I3S2omf6it28",
        "outputId": "86c5e27c-08e4-421c-cec6-6916595b5ce0"
      },
      "execution_count": 277,
      "outputs": [
        {
          "output_type": "error",
          "ename": "TypeError",
          "evalue": "ignored",
          "traceback": [
            "\u001b[0;31m---------------------------------------------------------------------------\u001b[0m",
            "\u001b[0;31mTypeError\u001b[0m                                 Traceback (most recent call last)",
            "\u001b[0;32m<ipython-input-277-93ff151909da>\u001b[0m in \u001b[0;36m<module>\u001b[0;34m()\u001b[0m\n\u001b[1;32m      1\u001b[0m \u001b[0mlogreg\u001b[0m \u001b[0;34m=\u001b[0m \u001b[0mLogisticRegression\u001b[0m\u001b[0;34m(\u001b[0m\u001b[0;34m)\u001b[0m\u001b[0;34m\u001b[0m\u001b[0;34m\u001b[0m\u001b[0m\n\u001b[1;32m      2\u001b[0m \u001b[0mlogreg\u001b[0m\u001b[0;34m.\u001b[0m\u001b[0mfit\u001b[0m\u001b[0;34m(\u001b[0m\u001b[0mX_train_processed\u001b[0m\u001b[0;34m,\u001b[0m \u001b[0my_train\u001b[0m\u001b[0;34m)\u001b[0m\u001b[0;34m\u001b[0m\u001b[0;34m\u001b[0m\u001b[0m\n\u001b[0;32m----> 3\u001b[0;31m \u001b[0mylog1\u001b[0m \u001b[0;34m=\u001b[0m \u001b[0mlogreg\u001b[0m\u001b[0;34m.\u001b[0m\u001b[0mpredict\u001b[0m\u001b[0;34m(\u001b[0m\u001b[0mX_test_processed\u001b[0m\u001b[0;34m,\u001b[0m \u001b[0merrors\u001b[0m \u001b[0;34m=\u001b[0m \u001b[0;34m'ignore'\u001b[0m\u001b[0;34m)\u001b[0m\u001b[0;34m\u001b[0m\u001b[0;34m\u001b[0m\u001b[0m\n\u001b[0m",
            "\u001b[0;31mTypeError\u001b[0m: predict() got an unexpected keyword argument 'errors'"
          ]
        }
      ]
    },
    {
      "cell_type": "code",
      "source": [
        ""
      ],
      "metadata": {
        "id": "LxswxWzztTIL"
      },
      "execution_count": null,
      "outputs": []
    }
  ]
}